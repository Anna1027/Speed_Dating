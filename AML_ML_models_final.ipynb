{
  "nbformat": 4,
  "nbformat_minor": 0,
  "metadata": {
    "colab": {
      "name": "AML_ML_models_final.ipynb",
      "provenance": [],
      "collapsed_sections": [],
      "machine_shape": "hm"
    },
    "kernelspec": {
      "name": "python3",
      "display_name": "Python 3"
    },
    "language_info": {
      "name": "python"
    },
    "accelerator": "GPU"
  },
  "cells": [
    {
      "cell_type": "code",
      "source": [
        "import matplotlib\n",
        "import pandas as pd \n",
        "import numpy as np\n",
        "import warnings\n",
        "import seaborn as sns\n",
        "import matplotlib.pyplot as plt\n",
        "\n",
        "%matplotlib inline\n",
        "warnings.filterwarnings(\"ignore\")"
      ],
      "metadata": {
        "id": "Sy1-WILECR9S"
      },
      "execution_count": 2,
      "outputs": []
    },
    {
      "cell_type": "code",
      "execution_count": 3,
      "metadata": {
        "colab": {
          "base_uri": "https://localhost:8080/"
        },
        "id": "xy9rC7ZLCJo_",
        "outputId": "4abdbd9f-ae2e-485c-f2d3-a55334931e7e"
      },
      "outputs": [
        {
          "output_type": "stream",
          "name": "stdout",
          "text": [
            "0.2282167581761757\n",
            "      has_null  wave  gender age age_o  d_age d_d_age  \\\n",
            "0            0     1  female  21    27      6   [4-6]   \n",
            "1            0     1  female  21    22      1   [0-1]   \n",
            "3            0     1  female  21    23      2   [2-3]   \n",
            "4            0     1  female  21    24      3   [2-3]   \n",
            "5            0     1  female  21    25      4   [4-6]   \n",
            "...        ...   ...     ...  ..   ...    ...     ...   \n",
            "8369         0    21    male  25    22      3   [2-3]   \n",
            "8370         0    21    male  25    27      2   [2-3]   \n",
            "8372         0    21    male  25    24      1   [0-1]   \n",
            "8374         0    21    male  25    24      1   [0-1]   \n",
            "8377         0    21    male  25    22      3   [2-3]   \n",
            "\n",
            "                                         race  \\\n",
            "0     'Asian/Pacific Islander/Asian-American'   \n",
            "1     'Asian/Pacific Islander/Asian-American'   \n",
            "3     'Asian/Pacific Islander/Asian-American'   \n",
            "4     'Asian/Pacific Islander/Asian-American'   \n",
            "5     'Asian/Pacific Islander/Asian-American'   \n",
            "...                                       ...   \n",
            "8369              European/Caucasian-American   \n",
            "8370              European/Caucasian-American   \n",
            "8372              European/Caucasian-American   \n",
            "8374              European/Caucasian-American   \n",
            "8377              European/Caucasian-American   \n",
            "\n",
            "                                       race_o  samerace  ...  \\\n",
            "0                 European/Caucasian-American         0  ...   \n",
            "1                 European/Caucasian-American         0  ...   \n",
            "3                 European/Caucasian-American         0  ...   \n",
            "4                  'Latino/Hispanic American'         0  ...   \n",
            "5                 European/Caucasian-American         0  ...   \n",
            "...                                       ...       ...  ...   \n",
            "8369              European/Caucasian-American         1  ...   \n",
            "8370  'Asian/Pacific Islander/Asian-American'         0  ...   \n",
            "8372              European/Caucasian-American         1  ...   \n",
            "8374                                    Other         0  ...   \n",
            "8377  'Asian/Pacific Islander/Asian-American'         0  ...   \n",
            "\n",
            "     d_expected_num_interested_in_me d_expected_num_matches like  \\\n",
            "0                              [0-3]                  [3-5]    7   \n",
            "1                              [0-3]                  [3-5]    7   \n",
            "3                              [0-3]                  [3-5]    7   \n",
            "4                              [0-3]                  [3-5]    6   \n",
            "5                              [0-3]                  [3-5]    6   \n",
            "...                              ...                    ...  ...   \n",
            "8369                           [0-3]                  [3-5]    6   \n",
            "8370                           [0-3]                  [3-5]    6   \n",
            "8372                           [0-3]                  [3-5]    4   \n",
            "8374                           [0-3]                  [3-5]    4   \n",
            "8377                           [0-3]                  [3-5]    4   \n",
            "\n",
            "     guess_prob_liked d_like d_guess_prob_liked met decision decision_o match  \n",
            "0                   6  [6-8]              [5-6]   0        1          0     0  \n",
            "1                   5  [6-8]              [5-6]   1        1          0     0  \n",
            "3                   6  [6-8]              [5-6]   0        1          1     1  \n",
            "4                   6  [6-8]              [5-6]   0        1          1     1  \n",
            "5                   5  [6-8]              [5-6]   0        0          1     0  \n",
            "...               ...    ...                ...  ..      ...        ...   ...  \n",
            "8369                3  [6-8]              [0-4]   0        0          1     0  \n",
            "8370                6  [6-8]              [5-6]   0        0          1     0  \n",
            "8372                4  [0-5]              [0-4]   0        0          0     0  \n",
            "8374                4  [0-5]              [0-4]   0        0          0     0  \n",
            "8377                5  [0-5]              [5-6]   0        0          1     0  \n",
            "\n",
            "[6466 rows x 119 columns]\n"
          ]
        },
        {
          "output_type": "execute_result",
          "data": {
            "text/plain": [
              "['d_d_age',\n",
              " 'd_importance_same_race',\n",
              " 'd_importance_same_religion',\n",
              " 'd_pref_o_attractive',\n",
              " 'd_pref_o_sincere',\n",
              " 'd_pref_o_intelligence',\n",
              " 'd_pref_o_funny',\n",
              " 'd_pref_o_ambitious',\n",
              " 'd_pref_o_shared_interests',\n",
              " 'd_attractive_o',\n",
              " 'd_sinsere_o',\n",
              " 'd_intelligence_o',\n",
              " 'd_funny_o',\n",
              " 'd_ambitous_o',\n",
              " 'd_shared_interests_o',\n",
              " 'd_attractive_important',\n",
              " 'd_sincere_important',\n",
              " 'd_intellicence_important',\n",
              " 'd_funny_important',\n",
              " 'd_ambtition_important',\n",
              " 'd_shared_interests_important',\n",
              " 'd_attractive',\n",
              " 'd_sincere',\n",
              " 'd_intelligence',\n",
              " 'd_funny',\n",
              " 'd_ambition',\n",
              " 'd_attractive_partner',\n",
              " 'd_sincere_partner',\n",
              " 'd_intelligence_partner',\n",
              " 'd_funny_partner',\n",
              " 'd_ambition_partner',\n",
              " 'd_shared_interests_partner',\n",
              " 'd_sports',\n",
              " 'd_tvsports',\n",
              " 'd_exercise',\n",
              " 'd_dining',\n",
              " 'd_museums',\n",
              " 'd_art',\n",
              " 'd_hiking',\n",
              " 'd_gaming',\n",
              " 'd_clubbing',\n",
              " 'd_reading',\n",
              " 'd_tv',\n",
              " 'd_theater',\n",
              " 'd_movies',\n",
              " 'd_concerts',\n",
              " 'd_music',\n",
              " 'd_shopping',\n",
              " 'd_yoga',\n",
              " 'd_interests_correlate',\n",
              " 'd_expected_happy_with_sd_people',\n",
              " 'd_expected_num_interested_in_me',\n",
              " 'd_expected_num_matches',\n",
              " 'd_like',\n",
              " 'd_guess_prob_liked']"
            ]
          },
          "metadata": {},
          "execution_count": 3
        }
      ],
      "source": [
        "df=pd.read_csv(\"speeddating.csv\")\n",
        "df_trunc=df.drop(['expected_num_interested_in_me', 'expected_num_matches'], axis=1)\n",
        "df_2_trunc=df_trunc.drop(['shared_interests_o', 'shared_interests_partner'], axis=1)\n",
        "trunc_2_cols=df_2_trunc.columns.to_list()\n",
        "for index, row in df_2_trunc.iterrows():\n",
        "    nan_present=0\n",
        "    for each in trunc_2_cols:\n",
        "        if str(df_2_trunc.iloc[index][each])==\"?\":\n",
        "            df_2_trunc.at[index,'has_null']=1\n",
        "            nan_present=1\n",
        "            break\n",
        "    if nan_present==0:\n",
        "        df_2_trunc.at[index,'has_null']=0\n",
        "print(df_2_trunc['has_null'].mean())\n",
        "df_final = df_2_trunc[df_2_trunc.has_null == 0]\n",
        "print(df_final)\n",
        "\n",
        "df_final=df_final.drop(['has_null', 'wave'], axis=1)\n",
        "cols_ord_list=[]\n",
        "for index, row in df_2_trunc.iterrows():\n",
        "    nan_present=0\n",
        "    for each in trunc_2_cols:\n",
        "        x = str(df_2_trunc.iloc[index][each])\n",
        "        if x[0]==\"[\":\n",
        "            cols_ord_list.append(each)\n",
        "    break\n",
        "cols_ord_list"
      ]
    },
    {
      "cell_type": "code",
      "source": [
        "## One-Hot Encoding\n",
        "df_final['race'] = np.where(df_final['race'] == \"'Asian/Pacific Islander/Asian-American'\", \n",
        "                            \"Asian/Pacific Islander/Asian-American\",\n",
        "                   np.where(df_final['race'] == \"'Black/African American'\", \n",
        "                            \"Black/African American\",\n",
        "                   np.where(df_final['race'] == \"'Latino/Hispanic American'\", \n",
        "                            \"Latino/Hispanic American\", \n",
        "                   np.where(df_final['race'] == \"?\", \"Unknown\", \n",
        "                   np.where(df_final['race'] == \"European/Caucasian-American\", \n",
        "                            \"European/Caucasian-American\",\n",
        "                   \"Other\")))))\n",
        "\n",
        "df_final['race_o'] = np.where(df_final['race_o'] == \"'Asian/Pacific Islander/Asian-American'\", \n",
        "                            \"Asian/Pacific Islander/Asian-American\",\n",
        "                   np.where(df_final['race_o'] == \"'Black/African American'\", \n",
        "                            \"Black/African American\",\n",
        "                   np.where(df_final['race_o'] == \"'Latino/Hispanic American'\", \n",
        "                            \"Latino/Hispanic American\", \n",
        "                   np.where(df_final['race_o'] == \"?\", \"Unknown\", \n",
        "                   np.where(df_final['race_o'] == \"European/Caucasian-American\", \n",
        "                            \"European/Caucasian-American\",\n",
        "                   \"Other\")))))\n",
        "\n",
        "df_final = df_final.join(pd.get_dummies(df_final.loc[:,[\"gender\", \"race\", \"race_o\", \"field\"]], drop_first = True))\n",
        "df_final = df_final.drop([\"gender\", \"race\", \"race_o\", \"field\"], axis = 1)\n",
        "df_final"
      ],
      "metadata": {
        "colab": {
          "base_uri": "https://localhost:8080/",
          "height": 487
        },
        "id": "92SZpsEwHGAg",
        "outputId": "59f7e0c2-c2f4-4127-81c2-144c314d49e6"
      },
      "execution_count": 4,
      "outputs": [
        {
          "output_type": "execute_result",
          "data": {
            "text/plain": [
              "     age age_o  d_age d_d_age  samerace importance_same_race  \\\n",
              "0     21    27      6   [4-6]         0                    2   \n",
              "1     21    22      1   [0-1]         0                    2   \n",
              "3     21    23      2   [2-3]         0                    2   \n",
              "4     21    24      3   [2-3]         0                    2   \n",
              "5     21    25      4   [4-6]         0                    2   \n",
              "...   ..   ...    ...     ...       ...                  ...   \n",
              "8369  25    22      3   [2-3]         1                    1   \n",
              "8370  25    27      2   [2-3]         0                    1   \n",
              "8372  25    24      1   [0-1]         1                    1   \n",
              "8374  25    24      1   [0-1]         0                    1   \n",
              "8377  25    22      3   [2-3]         0                    1   \n",
              "\n",
              "     importance_same_religion d_importance_same_race  \\\n",
              "0                           4                  [2-5]   \n",
              "1                           4                  [2-5]   \n",
              "3                           4                  [2-5]   \n",
              "4                           4                  [2-5]   \n",
              "5                           4                  [2-5]   \n",
              "...                       ...                    ...   \n",
              "8369                        1                  [0-1]   \n",
              "8370                        1                  [0-1]   \n",
              "8372                        1                  [0-1]   \n",
              "8374                        1                  [0-1]   \n",
              "8377                        1                  [0-1]   \n",
              "\n",
              "     d_importance_same_religion pref_o_attractive  ... field_math  \\\n",
              "0                         [2-5]                35  ...          0   \n",
              "1                         [2-5]                60  ...          0   \n",
              "3                         [2-5]                30  ...          0   \n",
              "4                         [2-5]                30  ...          0   \n",
              "5                         [2-5]                50  ...          0   \n",
              "...                         ...               ...  ...        ...   \n",
              "8369                      [0-1]                10  ...          0   \n",
              "8370                      [0-1]                10  ...          0   \n",
              "8372                      [0-1]                10  ...          0   \n",
              "8374                      [0-1]                50  ...          0   \n",
              "8377                      [0-1]                20  ...          0   \n",
              "\n",
              "     field_medicine field_microbiology field_money field_nutrition  \\\n",
              "0                 0                  0           0               0   \n",
              "1                 0                  0           0               0   \n",
              "3                 0                  0           0               0   \n",
              "4                 0                  0           0               0   \n",
              "5                 0                  0           0               0   \n",
              "...             ...                ...         ...             ...   \n",
              "8369              0                  0           0               0   \n",
              "8370              0                  0           0               0   \n",
              "8372              0                  0           0               0   \n",
              "8374              0                  0           0               0   \n",
              "8377              0                  0           0               0   \n",
              "\n",
              "     field_philosophy field_physics field_psychology field_sociology  \\\n",
              "0                   0             0                0               0   \n",
              "1                   0             0                0               0   \n",
              "3                   0             0                0               0   \n",
              "4                   0             0                0               0   \n",
              "5                   0             0                0               0   \n",
              "...               ...           ...              ...             ...   \n",
              "8369                0             0                0               0   \n",
              "8370                0             0                0               0   \n",
              "8372                0             0                0               0   \n",
              "8374                0             0                0               0   \n",
              "8377                0             0                0               0   \n",
              "\n",
              "     field_working  \n",
              "0                0  \n",
              "1                0  \n",
              "3                0  \n",
              "4                0  \n",
              "5                0  \n",
              "...            ...  \n",
              "8369             0  \n",
              "8370             0  \n",
              "8372             0  \n",
              "8374             0  \n",
              "8377             0  \n",
              "\n",
              "[6466 rows x 375 columns]"
            ],
            "text/html": [
              "\n",
              "  <div id=\"df-ae30b4f5-b5dd-43d2-b916-ecf83fb185f5\">\n",
              "    <div class=\"colab-df-container\">\n",
              "      <div>\n",
              "<style scoped>\n",
              "    .dataframe tbody tr th:only-of-type {\n",
              "        vertical-align: middle;\n",
              "    }\n",
              "\n",
              "    .dataframe tbody tr th {\n",
              "        vertical-align: top;\n",
              "    }\n",
              "\n",
              "    .dataframe thead th {\n",
              "        text-align: right;\n",
              "    }\n",
              "</style>\n",
              "<table border=\"1\" class=\"dataframe\">\n",
              "  <thead>\n",
              "    <tr style=\"text-align: right;\">\n",
              "      <th></th>\n",
              "      <th>age</th>\n",
              "      <th>age_o</th>\n",
              "      <th>d_age</th>\n",
              "      <th>d_d_age</th>\n",
              "      <th>samerace</th>\n",
              "      <th>importance_same_race</th>\n",
              "      <th>importance_same_religion</th>\n",
              "      <th>d_importance_same_race</th>\n",
              "      <th>d_importance_same_religion</th>\n",
              "      <th>pref_o_attractive</th>\n",
              "      <th>...</th>\n",
              "      <th>field_math</th>\n",
              "      <th>field_medicine</th>\n",
              "      <th>field_microbiology</th>\n",
              "      <th>field_money</th>\n",
              "      <th>field_nutrition</th>\n",
              "      <th>field_philosophy</th>\n",
              "      <th>field_physics</th>\n",
              "      <th>field_psychology</th>\n",
              "      <th>field_sociology</th>\n",
              "      <th>field_working</th>\n",
              "    </tr>\n",
              "  </thead>\n",
              "  <tbody>\n",
              "    <tr>\n",
              "      <th>0</th>\n",
              "      <td>21</td>\n",
              "      <td>27</td>\n",
              "      <td>6</td>\n",
              "      <td>[4-6]</td>\n",
              "      <td>0</td>\n",
              "      <td>2</td>\n",
              "      <td>4</td>\n",
              "      <td>[2-5]</td>\n",
              "      <td>[2-5]</td>\n",
              "      <td>35</td>\n",
              "      <td>...</td>\n",
              "      <td>0</td>\n",
              "      <td>0</td>\n",
              "      <td>0</td>\n",
              "      <td>0</td>\n",
              "      <td>0</td>\n",
              "      <td>0</td>\n",
              "      <td>0</td>\n",
              "      <td>0</td>\n",
              "      <td>0</td>\n",
              "      <td>0</td>\n",
              "    </tr>\n",
              "    <tr>\n",
              "      <th>1</th>\n",
              "      <td>21</td>\n",
              "      <td>22</td>\n",
              "      <td>1</td>\n",
              "      <td>[0-1]</td>\n",
              "      <td>0</td>\n",
              "      <td>2</td>\n",
              "      <td>4</td>\n",
              "      <td>[2-5]</td>\n",
              "      <td>[2-5]</td>\n",
              "      <td>60</td>\n",
              "      <td>...</td>\n",
              "      <td>0</td>\n",
              "      <td>0</td>\n",
              "      <td>0</td>\n",
              "      <td>0</td>\n",
              "      <td>0</td>\n",
              "      <td>0</td>\n",
              "      <td>0</td>\n",
              "      <td>0</td>\n",
              "      <td>0</td>\n",
              "      <td>0</td>\n",
              "    </tr>\n",
              "    <tr>\n",
              "      <th>3</th>\n",
              "      <td>21</td>\n",
              "      <td>23</td>\n",
              "      <td>2</td>\n",
              "      <td>[2-3]</td>\n",
              "      <td>0</td>\n",
              "      <td>2</td>\n",
              "      <td>4</td>\n",
              "      <td>[2-5]</td>\n",
              "      <td>[2-5]</td>\n",
              "      <td>30</td>\n",
              "      <td>...</td>\n",
              "      <td>0</td>\n",
              "      <td>0</td>\n",
              "      <td>0</td>\n",
              "      <td>0</td>\n",
              "      <td>0</td>\n",
              "      <td>0</td>\n",
              "      <td>0</td>\n",
              "      <td>0</td>\n",
              "      <td>0</td>\n",
              "      <td>0</td>\n",
              "    </tr>\n",
              "    <tr>\n",
              "      <th>4</th>\n",
              "      <td>21</td>\n",
              "      <td>24</td>\n",
              "      <td>3</td>\n",
              "      <td>[2-3]</td>\n",
              "      <td>0</td>\n",
              "      <td>2</td>\n",
              "      <td>4</td>\n",
              "      <td>[2-5]</td>\n",
              "      <td>[2-5]</td>\n",
              "      <td>30</td>\n",
              "      <td>...</td>\n",
              "      <td>0</td>\n",
              "      <td>0</td>\n",
              "      <td>0</td>\n",
              "      <td>0</td>\n",
              "      <td>0</td>\n",
              "      <td>0</td>\n",
              "      <td>0</td>\n",
              "      <td>0</td>\n",
              "      <td>0</td>\n",
              "      <td>0</td>\n",
              "    </tr>\n",
              "    <tr>\n",
              "      <th>5</th>\n",
              "      <td>21</td>\n",
              "      <td>25</td>\n",
              "      <td>4</td>\n",
              "      <td>[4-6]</td>\n",
              "      <td>0</td>\n",
              "      <td>2</td>\n",
              "      <td>4</td>\n",
              "      <td>[2-5]</td>\n",
              "      <td>[2-5]</td>\n",
              "      <td>50</td>\n",
              "      <td>...</td>\n",
              "      <td>0</td>\n",
              "      <td>0</td>\n",
              "      <td>0</td>\n",
              "      <td>0</td>\n",
              "      <td>0</td>\n",
              "      <td>0</td>\n",
              "      <td>0</td>\n",
              "      <td>0</td>\n",
              "      <td>0</td>\n",
              "      <td>0</td>\n",
              "    </tr>\n",
              "    <tr>\n",
              "      <th>...</th>\n",
              "      <td>...</td>\n",
              "      <td>...</td>\n",
              "      <td>...</td>\n",
              "      <td>...</td>\n",
              "      <td>...</td>\n",
              "      <td>...</td>\n",
              "      <td>...</td>\n",
              "      <td>...</td>\n",
              "      <td>...</td>\n",
              "      <td>...</td>\n",
              "      <td>...</td>\n",
              "      <td>...</td>\n",
              "      <td>...</td>\n",
              "      <td>...</td>\n",
              "      <td>...</td>\n",
              "      <td>...</td>\n",
              "      <td>...</td>\n",
              "      <td>...</td>\n",
              "      <td>...</td>\n",
              "      <td>...</td>\n",
              "      <td>...</td>\n",
              "    </tr>\n",
              "    <tr>\n",
              "      <th>8369</th>\n",
              "      <td>25</td>\n",
              "      <td>22</td>\n",
              "      <td>3</td>\n",
              "      <td>[2-3]</td>\n",
              "      <td>1</td>\n",
              "      <td>1</td>\n",
              "      <td>1</td>\n",
              "      <td>[0-1]</td>\n",
              "      <td>[0-1]</td>\n",
              "      <td>10</td>\n",
              "      <td>...</td>\n",
              "      <td>0</td>\n",
              "      <td>0</td>\n",
              "      <td>0</td>\n",
              "      <td>0</td>\n",
              "      <td>0</td>\n",
              "      <td>0</td>\n",
              "      <td>0</td>\n",
              "      <td>0</td>\n",
              "      <td>0</td>\n",
              "      <td>0</td>\n",
              "    </tr>\n",
              "    <tr>\n",
              "      <th>8370</th>\n",
              "      <td>25</td>\n",
              "      <td>27</td>\n",
              "      <td>2</td>\n",
              "      <td>[2-3]</td>\n",
              "      <td>0</td>\n",
              "      <td>1</td>\n",
              "      <td>1</td>\n",
              "      <td>[0-1]</td>\n",
              "      <td>[0-1]</td>\n",
              "      <td>10</td>\n",
              "      <td>...</td>\n",
              "      <td>0</td>\n",
              "      <td>0</td>\n",
              "      <td>0</td>\n",
              "      <td>0</td>\n",
              "      <td>0</td>\n",
              "      <td>0</td>\n",
              "      <td>0</td>\n",
              "      <td>0</td>\n",
              "      <td>0</td>\n",
              "      <td>0</td>\n",
              "    </tr>\n",
              "    <tr>\n",
              "      <th>8372</th>\n",
              "      <td>25</td>\n",
              "      <td>24</td>\n",
              "      <td>1</td>\n",
              "      <td>[0-1]</td>\n",
              "      <td>1</td>\n",
              "      <td>1</td>\n",
              "      <td>1</td>\n",
              "      <td>[0-1]</td>\n",
              "      <td>[0-1]</td>\n",
              "      <td>10</td>\n",
              "      <td>...</td>\n",
              "      <td>0</td>\n",
              "      <td>0</td>\n",
              "      <td>0</td>\n",
              "      <td>0</td>\n",
              "      <td>0</td>\n",
              "      <td>0</td>\n",
              "      <td>0</td>\n",
              "      <td>0</td>\n",
              "      <td>0</td>\n",
              "      <td>0</td>\n",
              "    </tr>\n",
              "    <tr>\n",
              "      <th>8374</th>\n",
              "      <td>25</td>\n",
              "      <td>24</td>\n",
              "      <td>1</td>\n",
              "      <td>[0-1]</td>\n",
              "      <td>0</td>\n",
              "      <td>1</td>\n",
              "      <td>1</td>\n",
              "      <td>[0-1]</td>\n",
              "      <td>[0-1]</td>\n",
              "      <td>50</td>\n",
              "      <td>...</td>\n",
              "      <td>0</td>\n",
              "      <td>0</td>\n",
              "      <td>0</td>\n",
              "      <td>0</td>\n",
              "      <td>0</td>\n",
              "      <td>0</td>\n",
              "      <td>0</td>\n",
              "      <td>0</td>\n",
              "      <td>0</td>\n",
              "      <td>0</td>\n",
              "    </tr>\n",
              "    <tr>\n",
              "      <th>8377</th>\n",
              "      <td>25</td>\n",
              "      <td>22</td>\n",
              "      <td>3</td>\n",
              "      <td>[2-3]</td>\n",
              "      <td>0</td>\n",
              "      <td>1</td>\n",
              "      <td>1</td>\n",
              "      <td>[0-1]</td>\n",
              "      <td>[0-1]</td>\n",
              "      <td>20</td>\n",
              "      <td>...</td>\n",
              "      <td>0</td>\n",
              "      <td>0</td>\n",
              "      <td>0</td>\n",
              "      <td>0</td>\n",
              "      <td>0</td>\n",
              "      <td>0</td>\n",
              "      <td>0</td>\n",
              "      <td>0</td>\n",
              "      <td>0</td>\n",
              "      <td>0</td>\n",
              "    </tr>\n",
              "  </tbody>\n",
              "</table>\n",
              "<p>6466 rows × 375 columns</p>\n",
              "</div>\n",
              "      <button class=\"colab-df-convert\" onclick=\"convertToInteractive('df-ae30b4f5-b5dd-43d2-b916-ecf83fb185f5')\"\n",
              "              title=\"Convert this dataframe to an interactive table.\"\n",
              "              style=\"display:none;\">\n",
              "        \n",
              "  <svg xmlns=\"http://www.w3.org/2000/svg\" height=\"24px\"viewBox=\"0 0 24 24\"\n",
              "       width=\"24px\">\n",
              "    <path d=\"M0 0h24v24H0V0z\" fill=\"none\"/>\n",
              "    <path d=\"M18.56 5.44l.94 2.06.94-2.06 2.06-.94-2.06-.94-.94-2.06-.94 2.06-2.06.94zm-11 1L8.5 8.5l.94-2.06 2.06-.94-2.06-.94L8.5 2.5l-.94 2.06-2.06.94zm10 10l.94 2.06.94-2.06 2.06-.94-2.06-.94-.94-2.06-.94 2.06-2.06.94z\"/><path d=\"M17.41 7.96l-1.37-1.37c-.4-.4-.92-.59-1.43-.59-.52 0-1.04.2-1.43.59L10.3 9.45l-7.72 7.72c-.78.78-.78 2.05 0 2.83L4 21.41c.39.39.9.59 1.41.59.51 0 1.02-.2 1.41-.59l7.78-7.78 2.81-2.81c.8-.78.8-2.07 0-2.86zM5.41 20L4 18.59l7.72-7.72 1.47 1.35L5.41 20z\"/>\n",
              "  </svg>\n",
              "      </button>\n",
              "      \n",
              "  <style>\n",
              "    .colab-df-container {\n",
              "      display:flex;\n",
              "      flex-wrap:wrap;\n",
              "      gap: 12px;\n",
              "    }\n",
              "\n",
              "    .colab-df-convert {\n",
              "      background-color: #E8F0FE;\n",
              "      border: none;\n",
              "      border-radius: 50%;\n",
              "      cursor: pointer;\n",
              "      display: none;\n",
              "      fill: #1967D2;\n",
              "      height: 32px;\n",
              "      padding: 0 0 0 0;\n",
              "      width: 32px;\n",
              "    }\n",
              "\n",
              "    .colab-df-convert:hover {\n",
              "      background-color: #E2EBFA;\n",
              "      box-shadow: 0px 1px 2px rgba(60, 64, 67, 0.3), 0px 1px 3px 1px rgba(60, 64, 67, 0.15);\n",
              "      fill: #174EA6;\n",
              "    }\n",
              "\n",
              "    [theme=dark] .colab-df-convert {\n",
              "      background-color: #3B4455;\n",
              "      fill: #D2E3FC;\n",
              "    }\n",
              "\n",
              "    [theme=dark] .colab-df-convert:hover {\n",
              "      background-color: #434B5C;\n",
              "      box-shadow: 0px 1px 3px 1px rgba(0, 0, 0, 0.15);\n",
              "      filter: drop-shadow(0px 1px 2px rgba(0, 0, 0, 0.3));\n",
              "      fill: #FFFFFF;\n",
              "    }\n",
              "  </style>\n",
              "\n",
              "      <script>\n",
              "        const buttonEl =\n",
              "          document.querySelector('#df-ae30b4f5-b5dd-43d2-b916-ecf83fb185f5 button.colab-df-convert');\n",
              "        buttonEl.style.display =\n",
              "          google.colab.kernel.accessAllowed ? 'block' : 'none';\n",
              "\n",
              "        async function convertToInteractive(key) {\n",
              "          const element = document.querySelector('#df-ae30b4f5-b5dd-43d2-b916-ecf83fb185f5');\n",
              "          const dataTable =\n",
              "            await google.colab.kernel.invokeFunction('convertToInteractive',\n",
              "                                                     [key], {});\n",
              "          if (!dataTable) return;\n",
              "\n",
              "          const docLinkHtml = 'Like what you see? Visit the ' +\n",
              "            '<a target=\"_blank\" href=https://colab.research.google.com/notebooks/data_table.ipynb>data table notebook</a>'\n",
              "            + ' to learn more about interactive tables.';\n",
              "          element.innerHTML = '';\n",
              "          dataTable['output_type'] = 'display_data';\n",
              "          await google.colab.output.renderOutput(dataTable, element);\n",
              "          const docLink = document.createElement('div');\n",
              "          docLink.innerHTML = docLinkHtml;\n",
              "          element.appendChild(docLink);\n",
              "        }\n",
              "      </script>\n",
              "    </div>\n",
              "  </div>\n",
              "  "
            ]
          },
          "metadata": {},
          "execution_count": 4
        }
      ]
    },
    {
      "cell_type": "code",
      "source": [
        "## Take a quick look at the levels of the categorical variables\n",
        "categorical_vars_levels = [sorted(df_final[cols_ord_list[i]].unique()) for i in range(df_final[cols_ord_list].shape[1])]\n",
        "categorical_vars_levels[:10]"
      ],
      "metadata": {
        "colab": {
          "base_uri": "https://localhost:8080/"
        },
        "id": "i_QzK-jBlnCS",
        "outputId": "c1a2ac56-3733-4963-d6e1-adc5fcfaea5b"
      },
      "execution_count": 5,
      "outputs": [
        {
          "output_type": "execute_result",
          "data": {
            "text/plain": [
              "[['[0-1]', '[2-3]', '[4-6]', '[7-37]'],\n",
              " ['[0-1]', '[2-5]', '[6-10]'],\n",
              " ['[0-1]', '[2-5]', '[6-10]'],\n",
              " ['[0-15]', '[16-20]', '[21-100]'],\n",
              " ['[0-15]', '[16-20]', '[21-100]'],\n",
              " ['[0-15]', '[16-20]', '[21-100]'],\n",
              " ['[0-15]', '[16-20]', '[21-100]'],\n",
              " ['[0-15]', '[16-20]', '[21-100]'],\n",
              " ['[0-15]', '[16-20]', '[21-100]'],\n",
              " ['[0-5]', '[6-8]', '[9-10]']]"
            ]
          },
          "metadata": {},
          "execution_count": 5
        }
      ]
    },
    {
      "cell_type": "code",
      "source": [
        "from sklearn.preprocessing import OrdinalEncoder\n",
        "\n",
        "df_final_copy = df_final.copy()\n",
        "for c in categorical_vars_levels:\n",
        "  # Initialize a new ordinal encoder for each different categorical level\n",
        "  ode = OrdinalEncoder(categories = [c])\n",
        "  for i in range(len(cols_ord_list)):\n",
        "    # check what columns are of the same level as one in the current loop \n",
        "    if set(df_final_copy.loc[:,cols_ord_list[i]]) == set(c):\n",
        "      df_final_copy.loc[:, [cols_ord_list[i]]] = ode.fit_transform(df_final_copy.loc[:, [cols_ord_list[i]]])"
      ],
      "metadata": {
        "id": "PaGE32-ErKqS"
      },
      "execution_count": 6,
      "outputs": []
    },
    {
      "cell_type": "code",
      "source": [
        "# sanity check that compares the transformed df with the original df to see if the ordinal encoder works correctly\n",
        "df_final_copy.loc[:,cols_ord_list].head()"
      ],
      "metadata": {
        "colab": {
          "base_uri": "https://localhost:8080/",
          "height": 299
        },
        "id": "DIqsDlgIxEhq",
        "outputId": "faca06cc-1787-4bb6-a014-fd81c529fb58"
      },
      "execution_count": 7,
      "outputs": [
        {
          "output_type": "execute_result",
          "data": {
            "text/plain": [
              "   d_d_age  d_importance_same_race  d_importance_same_religion  \\\n",
              "0      2.0                     1.0                         1.0   \n",
              "1      0.0                     1.0                         1.0   \n",
              "3      1.0                     1.0                         1.0   \n",
              "4      1.0                     1.0                         1.0   \n",
              "5      2.0                     1.0                         1.0   \n",
              "\n",
              "   d_pref_o_attractive  d_pref_o_sincere  d_pref_o_intelligence  \\\n",
              "0                  2.0               1.0                    1.0   \n",
              "1                  2.0               0.0                    0.0   \n",
              "3                  2.0               0.0                    0.0   \n",
              "4                  2.0               0.0                    1.0   \n",
              "5                  2.0               0.0                    2.0   \n",
              "\n",
              "   d_pref_o_funny  d_pref_o_ambitious  d_pref_o_shared_interests  \\\n",
              "0             1.0                 0.0                        0.0   \n",
              "1             2.0                 0.0                        0.0   \n",
              "3             2.0                 0.0                        0.0   \n",
              "4             0.0                 0.0                        1.0   \n",
              "5             0.0                 0.0                        0.0   \n",
              "\n",
              "   d_attractive_o  ...  d_concerts  d_music  d_shopping  d_yoga  \\\n",
              "0             1.0  ...         2.0      2.0         1.0     0.0   \n",
              "1             1.0  ...         2.0      2.0         1.0     0.0   \n",
              "3             1.0  ...         2.0      2.0         1.0     0.0   \n",
              "4             1.0  ...         2.0      2.0         1.0     0.0   \n",
              "5             1.0  ...         2.0      2.0         1.0     0.0   \n",
              "\n",
              "   d_interests_correlate  d_expected_happy_with_sd_people  \\\n",
              "0                    1.0                              0.0   \n",
              "1                    2.0                              0.0   \n",
              "3                    2.0                              0.0   \n",
              "4                    1.0                              0.0   \n",
              "5                    1.0                              0.0   \n",
              "\n",
              "   d_expected_num_interested_in_me  d_expected_num_matches  d_like  \\\n",
              "0                              0.0                     1.0     1.0   \n",
              "1                              0.0                     1.0     1.0   \n",
              "3                              0.0                     1.0     1.0   \n",
              "4                              0.0                     1.0     1.0   \n",
              "5                              0.0                     1.0     1.0   \n",
              "\n",
              "   d_guess_prob_liked  \n",
              "0                 1.0  \n",
              "1                 1.0  \n",
              "3                 1.0  \n",
              "4                 1.0  \n",
              "5                 1.0  \n",
              "\n",
              "[5 rows x 55 columns]"
            ],
            "text/html": [
              "\n",
              "  <div id=\"df-97153e35-91e7-4bbf-8134-267af3b3ec65\">\n",
              "    <div class=\"colab-df-container\">\n",
              "      <div>\n",
              "<style scoped>\n",
              "    .dataframe tbody tr th:only-of-type {\n",
              "        vertical-align: middle;\n",
              "    }\n",
              "\n",
              "    .dataframe tbody tr th {\n",
              "        vertical-align: top;\n",
              "    }\n",
              "\n",
              "    .dataframe thead th {\n",
              "        text-align: right;\n",
              "    }\n",
              "</style>\n",
              "<table border=\"1\" class=\"dataframe\">\n",
              "  <thead>\n",
              "    <tr style=\"text-align: right;\">\n",
              "      <th></th>\n",
              "      <th>d_d_age</th>\n",
              "      <th>d_importance_same_race</th>\n",
              "      <th>d_importance_same_religion</th>\n",
              "      <th>d_pref_o_attractive</th>\n",
              "      <th>d_pref_o_sincere</th>\n",
              "      <th>d_pref_o_intelligence</th>\n",
              "      <th>d_pref_o_funny</th>\n",
              "      <th>d_pref_o_ambitious</th>\n",
              "      <th>d_pref_o_shared_interests</th>\n",
              "      <th>d_attractive_o</th>\n",
              "      <th>...</th>\n",
              "      <th>d_concerts</th>\n",
              "      <th>d_music</th>\n",
              "      <th>d_shopping</th>\n",
              "      <th>d_yoga</th>\n",
              "      <th>d_interests_correlate</th>\n",
              "      <th>d_expected_happy_with_sd_people</th>\n",
              "      <th>d_expected_num_interested_in_me</th>\n",
              "      <th>d_expected_num_matches</th>\n",
              "      <th>d_like</th>\n",
              "      <th>d_guess_prob_liked</th>\n",
              "    </tr>\n",
              "  </thead>\n",
              "  <tbody>\n",
              "    <tr>\n",
              "      <th>0</th>\n",
              "      <td>2.0</td>\n",
              "      <td>1.0</td>\n",
              "      <td>1.0</td>\n",
              "      <td>2.0</td>\n",
              "      <td>1.0</td>\n",
              "      <td>1.0</td>\n",
              "      <td>1.0</td>\n",
              "      <td>0.0</td>\n",
              "      <td>0.0</td>\n",
              "      <td>1.0</td>\n",
              "      <td>...</td>\n",
              "      <td>2.0</td>\n",
              "      <td>2.0</td>\n",
              "      <td>1.0</td>\n",
              "      <td>0.0</td>\n",
              "      <td>1.0</td>\n",
              "      <td>0.0</td>\n",
              "      <td>0.0</td>\n",
              "      <td>1.0</td>\n",
              "      <td>1.0</td>\n",
              "      <td>1.0</td>\n",
              "    </tr>\n",
              "    <tr>\n",
              "      <th>1</th>\n",
              "      <td>0.0</td>\n",
              "      <td>1.0</td>\n",
              "      <td>1.0</td>\n",
              "      <td>2.0</td>\n",
              "      <td>0.0</td>\n",
              "      <td>0.0</td>\n",
              "      <td>2.0</td>\n",
              "      <td>0.0</td>\n",
              "      <td>0.0</td>\n",
              "      <td>1.0</td>\n",
              "      <td>...</td>\n",
              "      <td>2.0</td>\n",
              "      <td>2.0</td>\n",
              "      <td>1.0</td>\n",
              "      <td>0.0</td>\n",
              "      <td>2.0</td>\n",
              "      <td>0.0</td>\n",
              "      <td>0.0</td>\n",
              "      <td>1.0</td>\n",
              "      <td>1.0</td>\n",
              "      <td>1.0</td>\n",
              "    </tr>\n",
              "    <tr>\n",
              "      <th>3</th>\n",
              "      <td>1.0</td>\n",
              "      <td>1.0</td>\n",
              "      <td>1.0</td>\n",
              "      <td>2.0</td>\n",
              "      <td>0.0</td>\n",
              "      <td>0.0</td>\n",
              "      <td>2.0</td>\n",
              "      <td>0.0</td>\n",
              "      <td>0.0</td>\n",
              "      <td>1.0</td>\n",
              "      <td>...</td>\n",
              "      <td>2.0</td>\n",
              "      <td>2.0</td>\n",
              "      <td>1.0</td>\n",
              "      <td>0.0</td>\n",
              "      <td>2.0</td>\n",
              "      <td>0.0</td>\n",
              "      <td>0.0</td>\n",
              "      <td>1.0</td>\n",
              "      <td>1.0</td>\n",
              "      <td>1.0</td>\n",
              "    </tr>\n",
              "    <tr>\n",
              "      <th>4</th>\n",
              "      <td>1.0</td>\n",
              "      <td>1.0</td>\n",
              "      <td>1.0</td>\n",
              "      <td>2.0</td>\n",
              "      <td>0.0</td>\n",
              "      <td>1.0</td>\n",
              "      <td>0.0</td>\n",
              "      <td>0.0</td>\n",
              "      <td>1.0</td>\n",
              "      <td>1.0</td>\n",
              "      <td>...</td>\n",
              "      <td>2.0</td>\n",
              "      <td>2.0</td>\n",
              "      <td>1.0</td>\n",
              "      <td>0.0</td>\n",
              "      <td>1.0</td>\n",
              "      <td>0.0</td>\n",
              "      <td>0.0</td>\n",
              "      <td>1.0</td>\n",
              "      <td>1.0</td>\n",
              "      <td>1.0</td>\n",
              "    </tr>\n",
              "    <tr>\n",
              "      <th>5</th>\n",
              "      <td>2.0</td>\n",
              "      <td>1.0</td>\n",
              "      <td>1.0</td>\n",
              "      <td>2.0</td>\n",
              "      <td>0.0</td>\n",
              "      <td>2.0</td>\n",
              "      <td>0.0</td>\n",
              "      <td>0.0</td>\n",
              "      <td>0.0</td>\n",
              "      <td>1.0</td>\n",
              "      <td>...</td>\n",
              "      <td>2.0</td>\n",
              "      <td>2.0</td>\n",
              "      <td>1.0</td>\n",
              "      <td>0.0</td>\n",
              "      <td>1.0</td>\n",
              "      <td>0.0</td>\n",
              "      <td>0.0</td>\n",
              "      <td>1.0</td>\n",
              "      <td>1.0</td>\n",
              "      <td>1.0</td>\n",
              "    </tr>\n",
              "  </tbody>\n",
              "</table>\n",
              "<p>5 rows × 55 columns</p>\n",
              "</div>\n",
              "      <button class=\"colab-df-convert\" onclick=\"convertToInteractive('df-97153e35-91e7-4bbf-8134-267af3b3ec65')\"\n",
              "              title=\"Convert this dataframe to an interactive table.\"\n",
              "              style=\"display:none;\">\n",
              "        \n",
              "  <svg xmlns=\"http://www.w3.org/2000/svg\" height=\"24px\"viewBox=\"0 0 24 24\"\n",
              "       width=\"24px\">\n",
              "    <path d=\"M0 0h24v24H0V0z\" fill=\"none\"/>\n",
              "    <path d=\"M18.56 5.44l.94 2.06.94-2.06 2.06-.94-2.06-.94-.94-2.06-.94 2.06-2.06.94zm-11 1L8.5 8.5l.94-2.06 2.06-.94-2.06-.94L8.5 2.5l-.94 2.06-2.06.94zm10 10l.94 2.06.94-2.06 2.06-.94-2.06-.94-.94-2.06-.94 2.06-2.06.94z\"/><path d=\"M17.41 7.96l-1.37-1.37c-.4-.4-.92-.59-1.43-.59-.52 0-1.04.2-1.43.59L10.3 9.45l-7.72 7.72c-.78.78-.78 2.05 0 2.83L4 21.41c.39.39.9.59 1.41.59.51 0 1.02-.2 1.41-.59l7.78-7.78 2.81-2.81c.8-.78.8-2.07 0-2.86zM5.41 20L4 18.59l7.72-7.72 1.47 1.35L5.41 20z\"/>\n",
              "  </svg>\n",
              "      </button>\n",
              "      \n",
              "  <style>\n",
              "    .colab-df-container {\n",
              "      display:flex;\n",
              "      flex-wrap:wrap;\n",
              "      gap: 12px;\n",
              "    }\n",
              "\n",
              "    .colab-df-convert {\n",
              "      background-color: #E8F0FE;\n",
              "      border: none;\n",
              "      border-radius: 50%;\n",
              "      cursor: pointer;\n",
              "      display: none;\n",
              "      fill: #1967D2;\n",
              "      height: 32px;\n",
              "      padding: 0 0 0 0;\n",
              "      width: 32px;\n",
              "    }\n",
              "\n",
              "    .colab-df-convert:hover {\n",
              "      background-color: #E2EBFA;\n",
              "      box-shadow: 0px 1px 2px rgba(60, 64, 67, 0.3), 0px 1px 3px 1px rgba(60, 64, 67, 0.15);\n",
              "      fill: #174EA6;\n",
              "    }\n",
              "\n",
              "    [theme=dark] .colab-df-convert {\n",
              "      background-color: #3B4455;\n",
              "      fill: #D2E3FC;\n",
              "    }\n",
              "\n",
              "    [theme=dark] .colab-df-convert:hover {\n",
              "      background-color: #434B5C;\n",
              "      box-shadow: 0px 1px 3px 1px rgba(0, 0, 0, 0.15);\n",
              "      filter: drop-shadow(0px 1px 2px rgba(0, 0, 0, 0.3));\n",
              "      fill: #FFFFFF;\n",
              "    }\n",
              "  </style>\n",
              "\n",
              "      <script>\n",
              "        const buttonEl =\n",
              "          document.querySelector('#df-97153e35-91e7-4bbf-8134-267af3b3ec65 button.colab-df-convert');\n",
              "        buttonEl.style.display =\n",
              "          google.colab.kernel.accessAllowed ? 'block' : 'none';\n",
              "\n",
              "        async function convertToInteractive(key) {\n",
              "          const element = document.querySelector('#df-97153e35-91e7-4bbf-8134-267af3b3ec65');\n",
              "          const dataTable =\n",
              "            await google.colab.kernel.invokeFunction('convertToInteractive',\n",
              "                                                     [key], {});\n",
              "          if (!dataTable) return;\n",
              "\n",
              "          const docLinkHtml = 'Like what you see? Visit the ' +\n",
              "            '<a target=\"_blank\" href=https://colab.research.google.com/notebooks/data_table.ipynb>data table notebook</a>'\n",
              "            + ' to learn more about interactive tables.';\n",
              "          element.innerHTML = '';\n",
              "          dataTable['output_type'] = 'display_data';\n",
              "          await google.colab.output.renderOutput(dataTable, element);\n",
              "          const docLink = document.createElement('div');\n",
              "          docLink.innerHTML = docLinkHtml;\n",
              "          element.appendChild(docLink);\n",
              "        }\n",
              "      </script>\n",
              "    </div>\n",
              "  </div>\n",
              "  "
            ]
          },
          "metadata": {},
          "execution_count": 7
        }
      ]
    },
    {
      "cell_type": "code",
      "source": [
        "# sanity check that compares the transformed df with the original df to see if the ordinal encoder works correctly\n",
        "df_final.loc[:,cols_ord_list].head()"
      ],
      "metadata": {
        "colab": {
          "base_uri": "https://localhost:8080/",
          "height": 299
        },
        "id": "Cql_fw0axMXA",
        "outputId": "68c5228a-ff67-4129-cdb4-8ed9ea451462"
      },
      "execution_count": 8,
      "outputs": [
        {
          "output_type": "execute_result",
          "data": {
            "text/plain": [
              "  d_d_age d_importance_same_race d_importance_same_religion  \\\n",
              "0   [4-6]                  [2-5]                      [2-5]   \n",
              "1   [0-1]                  [2-5]                      [2-5]   \n",
              "3   [2-3]                  [2-5]                      [2-5]   \n",
              "4   [2-3]                  [2-5]                      [2-5]   \n",
              "5   [4-6]                  [2-5]                      [2-5]   \n",
              "\n",
              "  d_pref_o_attractive d_pref_o_sincere d_pref_o_intelligence d_pref_o_funny  \\\n",
              "0            [21-100]          [16-20]               [16-20]        [16-20]   \n",
              "1            [21-100]           [0-15]                [0-15]       [21-100]   \n",
              "3            [21-100]           [0-15]                [0-15]       [21-100]   \n",
              "4            [21-100]           [0-15]               [16-20]         [0-15]   \n",
              "5            [21-100]           [0-15]              [21-100]         [0-15]   \n",
              "\n",
              "  d_pref_o_ambitious d_pref_o_shared_interests d_attractive_o  ... d_concerts  \\\n",
              "0             [0-15]                    [0-15]          [6-8]  ...     [9-10]   \n",
              "1             [0-15]                    [0-15]          [6-8]  ...     [9-10]   \n",
              "3             [0-15]                    [0-15]          [6-8]  ...     [9-10]   \n",
              "4             [0-15]                   [16-20]          [6-8]  ...     [9-10]   \n",
              "5             [0-15]                    [0-15]          [6-8]  ...     [9-10]   \n",
              "\n",
              "  d_music d_shopping d_yoga d_interests_correlate  \\\n",
              "0  [9-10]      [6-8]  [0-5]              [0-0.33]   \n",
              "1  [9-10]      [6-8]  [0-5]              [0.33-1]   \n",
              "3  [9-10]      [6-8]  [0-5]              [0.33-1]   \n",
              "4  [9-10]      [6-8]  [0-5]              [0-0.33]   \n",
              "5  [9-10]      [6-8]  [0-5]              [0-0.33]   \n",
              "\n",
              "  d_expected_happy_with_sd_people d_expected_num_interested_in_me  \\\n",
              "0                           [0-4]                           [0-3]   \n",
              "1                           [0-4]                           [0-3]   \n",
              "3                           [0-4]                           [0-3]   \n",
              "4                           [0-4]                           [0-3]   \n",
              "5                           [0-4]                           [0-3]   \n",
              "\n",
              "  d_expected_num_matches d_like d_guess_prob_liked  \n",
              "0                  [3-5]  [6-8]              [5-6]  \n",
              "1                  [3-5]  [6-8]              [5-6]  \n",
              "3                  [3-5]  [6-8]              [5-6]  \n",
              "4                  [3-5]  [6-8]              [5-6]  \n",
              "5                  [3-5]  [6-8]              [5-6]  \n",
              "\n",
              "[5 rows x 55 columns]"
            ],
            "text/html": [
              "\n",
              "  <div id=\"df-96c60838-0896-4a19-8aec-66bf6bb8569b\">\n",
              "    <div class=\"colab-df-container\">\n",
              "      <div>\n",
              "<style scoped>\n",
              "    .dataframe tbody tr th:only-of-type {\n",
              "        vertical-align: middle;\n",
              "    }\n",
              "\n",
              "    .dataframe tbody tr th {\n",
              "        vertical-align: top;\n",
              "    }\n",
              "\n",
              "    .dataframe thead th {\n",
              "        text-align: right;\n",
              "    }\n",
              "</style>\n",
              "<table border=\"1\" class=\"dataframe\">\n",
              "  <thead>\n",
              "    <tr style=\"text-align: right;\">\n",
              "      <th></th>\n",
              "      <th>d_d_age</th>\n",
              "      <th>d_importance_same_race</th>\n",
              "      <th>d_importance_same_religion</th>\n",
              "      <th>d_pref_o_attractive</th>\n",
              "      <th>d_pref_o_sincere</th>\n",
              "      <th>d_pref_o_intelligence</th>\n",
              "      <th>d_pref_o_funny</th>\n",
              "      <th>d_pref_o_ambitious</th>\n",
              "      <th>d_pref_o_shared_interests</th>\n",
              "      <th>d_attractive_o</th>\n",
              "      <th>...</th>\n",
              "      <th>d_concerts</th>\n",
              "      <th>d_music</th>\n",
              "      <th>d_shopping</th>\n",
              "      <th>d_yoga</th>\n",
              "      <th>d_interests_correlate</th>\n",
              "      <th>d_expected_happy_with_sd_people</th>\n",
              "      <th>d_expected_num_interested_in_me</th>\n",
              "      <th>d_expected_num_matches</th>\n",
              "      <th>d_like</th>\n",
              "      <th>d_guess_prob_liked</th>\n",
              "    </tr>\n",
              "  </thead>\n",
              "  <tbody>\n",
              "    <tr>\n",
              "      <th>0</th>\n",
              "      <td>[4-6]</td>\n",
              "      <td>[2-5]</td>\n",
              "      <td>[2-5]</td>\n",
              "      <td>[21-100]</td>\n",
              "      <td>[16-20]</td>\n",
              "      <td>[16-20]</td>\n",
              "      <td>[16-20]</td>\n",
              "      <td>[0-15]</td>\n",
              "      <td>[0-15]</td>\n",
              "      <td>[6-8]</td>\n",
              "      <td>...</td>\n",
              "      <td>[9-10]</td>\n",
              "      <td>[9-10]</td>\n",
              "      <td>[6-8]</td>\n",
              "      <td>[0-5]</td>\n",
              "      <td>[0-0.33]</td>\n",
              "      <td>[0-4]</td>\n",
              "      <td>[0-3]</td>\n",
              "      <td>[3-5]</td>\n",
              "      <td>[6-8]</td>\n",
              "      <td>[5-6]</td>\n",
              "    </tr>\n",
              "    <tr>\n",
              "      <th>1</th>\n",
              "      <td>[0-1]</td>\n",
              "      <td>[2-5]</td>\n",
              "      <td>[2-5]</td>\n",
              "      <td>[21-100]</td>\n",
              "      <td>[0-15]</td>\n",
              "      <td>[0-15]</td>\n",
              "      <td>[21-100]</td>\n",
              "      <td>[0-15]</td>\n",
              "      <td>[0-15]</td>\n",
              "      <td>[6-8]</td>\n",
              "      <td>...</td>\n",
              "      <td>[9-10]</td>\n",
              "      <td>[9-10]</td>\n",
              "      <td>[6-8]</td>\n",
              "      <td>[0-5]</td>\n",
              "      <td>[0.33-1]</td>\n",
              "      <td>[0-4]</td>\n",
              "      <td>[0-3]</td>\n",
              "      <td>[3-5]</td>\n",
              "      <td>[6-8]</td>\n",
              "      <td>[5-6]</td>\n",
              "    </tr>\n",
              "    <tr>\n",
              "      <th>3</th>\n",
              "      <td>[2-3]</td>\n",
              "      <td>[2-5]</td>\n",
              "      <td>[2-5]</td>\n",
              "      <td>[21-100]</td>\n",
              "      <td>[0-15]</td>\n",
              "      <td>[0-15]</td>\n",
              "      <td>[21-100]</td>\n",
              "      <td>[0-15]</td>\n",
              "      <td>[0-15]</td>\n",
              "      <td>[6-8]</td>\n",
              "      <td>...</td>\n",
              "      <td>[9-10]</td>\n",
              "      <td>[9-10]</td>\n",
              "      <td>[6-8]</td>\n",
              "      <td>[0-5]</td>\n",
              "      <td>[0.33-1]</td>\n",
              "      <td>[0-4]</td>\n",
              "      <td>[0-3]</td>\n",
              "      <td>[3-5]</td>\n",
              "      <td>[6-8]</td>\n",
              "      <td>[5-6]</td>\n",
              "    </tr>\n",
              "    <tr>\n",
              "      <th>4</th>\n",
              "      <td>[2-3]</td>\n",
              "      <td>[2-5]</td>\n",
              "      <td>[2-5]</td>\n",
              "      <td>[21-100]</td>\n",
              "      <td>[0-15]</td>\n",
              "      <td>[16-20]</td>\n",
              "      <td>[0-15]</td>\n",
              "      <td>[0-15]</td>\n",
              "      <td>[16-20]</td>\n",
              "      <td>[6-8]</td>\n",
              "      <td>...</td>\n",
              "      <td>[9-10]</td>\n",
              "      <td>[9-10]</td>\n",
              "      <td>[6-8]</td>\n",
              "      <td>[0-5]</td>\n",
              "      <td>[0-0.33]</td>\n",
              "      <td>[0-4]</td>\n",
              "      <td>[0-3]</td>\n",
              "      <td>[3-5]</td>\n",
              "      <td>[6-8]</td>\n",
              "      <td>[5-6]</td>\n",
              "    </tr>\n",
              "    <tr>\n",
              "      <th>5</th>\n",
              "      <td>[4-6]</td>\n",
              "      <td>[2-5]</td>\n",
              "      <td>[2-5]</td>\n",
              "      <td>[21-100]</td>\n",
              "      <td>[0-15]</td>\n",
              "      <td>[21-100]</td>\n",
              "      <td>[0-15]</td>\n",
              "      <td>[0-15]</td>\n",
              "      <td>[0-15]</td>\n",
              "      <td>[6-8]</td>\n",
              "      <td>...</td>\n",
              "      <td>[9-10]</td>\n",
              "      <td>[9-10]</td>\n",
              "      <td>[6-8]</td>\n",
              "      <td>[0-5]</td>\n",
              "      <td>[0-0.33]</td>\n",
              "      <td>[0-4]</td>\n",
              "      <td>[0-3]</td>\n",
              "      <td>[3-5]</td>\n",
              "      <td>[6-8]</td>\n",
              "      <td>[5-6]</td>\n",
              "    </tr>\n",
              "  </tbody>\n",
              "</table>\n",
              "<p>5 rows × 55 columns</p>\n",
              "</div>\n",
              "      <button class=\"colab-df-convert\" onclick=\"convertToInteractive('df-96c60838-0896-4a19-8aec-66bf6bb8569b')\"\n",
              "              title=\"Convert this dataframe to an interactive table.\"\n",
              "              style=\"display:none;\">\n",
              "        \n",
              "  <svg xmlns=\"http://www.w3.org/2000/svg\" height=\"24px\"viewBox=\"0 0 24 24\"\n",
              "       width=\"24px\">\n",
              "    <path d=\"M0 0h24v24H0V0z\" fill=\"none\"/>\n",
              "    <path d=\"M18.56 5.44l.94 2.06.94-2.06 2.06-.94-2.06-.94-.94-2.06-.94 2.06-2.06.94zm-11 1L8.5 8.5l.94-2.06 2.06-.94-2.06-.94L8.5 2.5l-.94 2.06-2.06.94zm10 10l.94 2.06.94-2.06 2.06-.94-2.06-.94-.94-2.06-.94 2.06-2.06.94z\"/><path d=\"M17.41 7.96l-1.37-1.37c-.4-.4-.92-.59-1.43-.59-.52 0-1.04.2-1.43.59L10.3 9.45l-7.72 7.72c-.78.78-.78 2.05 0 2.83L4 21.41c.39.39.9.59 1.41.59.51 0 1.02-.2 1.41-.59l7.78-7.78 2.81-2.81c.8-.78.8-2.07 0-2.86zM5.41 20L4 18.59l7.72-7.72 1.47 1.35L5.41 20z\"/>\n",
              "  </svg>\n",
              "      </button>\n",
              "      \n",
              "  <style>\n",
              "    .colab-df-container {\n",
              "      display:flex;\n",
              "      flex-wrap:wrap;\n",
              "      gap: 12px;\n",
              "    }\n",
              "\n",
              "    .colab-df-convert {\n",
              "      background-color: #E8F0FE;\n",
              "      border: none;\n",
              "      border-radius: 50%;\n",
              "      cursor: pointer;\n",
              "      display: none;\n",
              "      fill: #1967D2;\n",
              "      height: 32px;\n",
              "      padding: 0 0 0 0;\n",
              "      width: 32px;\n",
              "    }\n",
              "\n",
              "    .colab-df-convert:hover {\n",
              "      background-color: #E2EBFA;\n",
              "      box-shadow: 0px 1px 2px rgba(60, 64, 67, 0.3), 0px 1px 3px 1px rgba(60, 64, 67, 0.15);\n",
              "      fill: #174EA6;\n",
              "    }\n",
              "\n",
              "    [theme=dark] .colab-df-convert {\n",
              "      background-color: #3B4455;\n",
              "      fill: #D2E3FC;\n",
              "    }\n",
              "\n",
              "    [theme=dark] .colab-df-convert:hover {\n",
              "      background-color: #434B5C;\n",
              "      box-shadow: 0px 1px 3px 1px rgba(0, 0, 0, 0.15);\n",
              "      filter: drop-shadow(0px 1px 2px rgba(0, 0, 0, 0.3));\n",
              "      fill: #FFFFFF;\n",
              "    }\n",
              "  </style>\n",
              "\n",
              "      <script>\n",
              "        const buttonEl =\n",
              "          document.querySelector('#df-96c60838-0896-4a19-8aec-66bf6bb8569b button.colab-df-convert');\n",
              "        buttonEl.style.display =\n",
              "          google.colab.kernel.accessAllowed ? 'block' : 'none';\n",
              "\n",
              "        async function convertToInteractive(key) {\n",
              "          const element = document.querySelector('#df-96c60838-0896-4a19-8aec-66bf6bb8569b');\n",
              "          const dataTable =\n",
              "            await google.colab.kernel.invokeFunction('convertToInteractive',\n",
              "                                                     [key], {});\n",
              "          if (!dataTable) return;\n",
              "\n",
              "          const docLinkHtml = 'Like what you see? Visit the ' +\n",
              "            '<a target=\"_blank\" href=https://colab.research.google.com/notebooks/data_table.ipynb>data table notebook</a>'\n",
              "            + ' to learn more about interactive tables.';\n",
              "          element.innerHTML = '';\n",
              "          dataTable['output_type'] = 'display_data';\n",
              "          await google.colab.output.renderOutput(dataTable, element);\n",
              "          const docLink = document.createElement('div');\n",
              "          docLink.innerHTML = docLinkHtml;\n",
              "          element.appendChild(docLink);\n",
              "        }\n",
              "      </script>\n",
              "    </div>\n",
              "  </div>\n",
              "  "
            ]
          },
          "metadata": {},
          "execution_count": 8
        }
      ]
    },
    {
      "cell_type": "code",
      "source": [
        "X=df_final_copy.drop(['decision', 'decision_o','match'], axis = 1)\n",
        "y=df_final_copy['match']"
      ],
      "metadata": {
        "id": "dEbNO6dw6HvK"
      },
      "execution_count": 9,
      "outputs": []
    },
    {
      "cell_type": "code",
      "source": [
        "y.mean()"
      ],
      "metadata": {
        "colab": {
          "base_uri": "https://localhost:8080/"
        },
        "id": "epDiSBP68wpV",
        "outputId": "78689207-3b0d-42ae-a220-2817cc5692dd"
      },
      "execution_count": 10,
      "outputs": [
        {
          "output_type": "execute_result",
          "data": {
            "text/plain": [
              "0.1721311475409836"
            ]
          },
          "metadata": {},
          "execution_count": 10
        }
      ]
    },
    {
      "cell_type": "code",
      "source": [
        "from imblearn.under_sampling import RandomUnderSampler\n",
        "from imblearn.over_sampling import RandomOverSampler\n",
        "from imblearn.over_sampling import SMOTE\n",
        "from sklearn.metrics import ConfusionMatrixDisplay\n",
        "from sklearn.metrics import plot_roc_curve\n",
        "from sklearn.metrics import plot_precision_recall_curve"
      ],
      "metadata": {
        "id": "PKuKTC2Thwg8"
      },
      "execution_count": 11,
      "outputs": []
    },
    {
      "cell_type": "code",
      "source": [
        "from sklearn.model_selection import train_test_split\n",
        "import statsmodels.api as sm\n",
        "from sklearn.linear_model import LogisticRegression\n",
        "from sklearn.ensemble import RandomForestClassifier\n",
        "from sklearn.ensemble import GradientBoostingClassifier\n",
        "from sklearn.svm import SVC\n",
        "from sklearn import metrics\n",
        "X_train, X_test, y_train, y_test = train_test_split(X, y, test_size=0.2, random_state=42, stratify = y)"
      ],
      "metadata": {
        "id": "pNnzeP2UwA3E"
      },
      "execution_count": 12,
      "outputs": []
    },
    {
      "cell_type": "code",
      "source": [
        "X"
      ],
      "metadata": {
        "colab": {
          "base_uri": "https://localhost:8080/",
          "height": 488
        },
        "id": "dKmT_oVv5hwX",
        "outputId": "6ce09811-8563-4656-f812-748b2b827545"
      },
      "execution_count": null,
      "outputs": [
        {
          "output_type": "execute_result",
          "data": {
            "text/plain": [
              "     age age_o  d_age  d_d_age  samerace importance_same_race  \\\n",
              "0     21    27      6      2.0         0                    2   \n",
              "1     21    22      1      0.0         0                    2   \n",
              "3     21    23      2      1.0         0                    2   \n",
              "4     21    24      3      1.0         0                    2   \n",
              "5     21    25      4      2.0         0                    2   \n",
              "...   ..   ...    ...      ...       ...                  ...   \n",
              "8369  25    22      3      1.0         1                    1   \n",
              "8370  25    27      2      1.0         0                    1   \n",
              "8372  25    24      1      0.0         1                    1   \n",
              "8374  25    24      1      0.0         0                    1   \n",
              "8377  25    22      3      1.0         0                    1   \n",
              "\n",
              "     importance_same_religion  d_importance_same_race  \\\n",
              "0                           4                     1.0   \n",
              "1                           4                     1.0   \n",
              "3                           4                     1.0   \n",
              "4                           4                     1.0   \n",
              "5                           4                     1.0   \n",
              "...                       ...                     ...   \n",
              "8369                        1                     0.0   \n",
              "8370                        1                     0.0   \n",
              "8372                        1                     0.0   \n",
              "8374                        1                     0.0   \n",
              "8377                        1                     0.0   \n",
              "\n",
              "      d_importance_same_religion pref_o_attractive  ... field_math  \\\n",
              "0                            1.0                35  ...          0   \n",
              "1                            1.0                60  ...          0   \n",
              "3                            1.0                30  ...          0   \n",
              "4                            1.0                30  ...          0   \n",
              "5                            1.0                50  ...          0   \n",
              "...                          ...               ...  ...        ...   \n",
              "8369                         0.0                10  ...          0   \n",
              "8370                         0.0                10  ...          0   \n",
              "8372                         0.0                10  ...          0   \n",
              "8374                         0.0                50  ...          0   \n",
              "8377                         0.0                20  ...          0   \n",
              "\n",
              "     field_medicine field_microbiology field_money field_nutrition  \\\n",
              "0                 0                  0           0               0   \n",
              "1                 0                  0           0               0   \n",
              "3                 0                  0           0               0   \n",
              "4                 0                  0           0               0   \n",
              "5                 0                  0           0               0   \n",
              "...             ...                ...         ...             ...   \n",
              "8369              0                  0           0               0   \n",
              "8370              0                  0           0               0   \n",
              "8372              0                  0           0               0   \n",
              "8374              0                  0           0               0   \n",
              "8377              0                  0           0               0   \n",
              "\n",
              "      field_philosophy  field_physics  field_psychology  field_sociology  \\\n",
              "0                    0              0                 0                0   \n",
              "1                    0              0                 0                0   \n",
              "3                    0              0                 0                0   \n",
              "4                    0              0                 0                0   \n",
              "5                    0              0                 0                0   \n",
              "...                ...            ...               ...              ...   \n",
              "8369                 0              0                 0                0   \n",
              "8370                 0              0                 0                0   \n",
              "8372                 0              0                 0                0   \n",
              "8374                 0              0                 0                0   \n",
              "8377                 0              0                 0                0   \n",
              "\n",
              "      field_working  \n",
              "0                 0  \n",
              "1                 0  \n",
              "3                 0  \n",
              "4                 0  \n",
              "5                 0  \n",
              "...             ...  \n",
              "8369              0  \n",
              "8370              0  \n",
              "8372              0  \n",
              "8374              0  \n",
              "8377              0  \n",
              "\n",
              "[6466 rows x 372 columns]"
            ],
            "text/html": [
              "\n",
              "  <div id=\"df-7b3134eb-052e-48fb-b038-cdf8ded912b2\">\n",
              "    <div class=\"colab-df-container\">\n",
              "      <div>\n",
              "<style scoped>\n",
              "    .dataframe tbody tr th:only-of-type {\n",
              "        vertical-align: middle;\n",
              "    }\n",
              "\n",
              "    .dataframe tbody tr th {\n",
              "        vertical-align: top;\n",
              "    }\n",
              "\n",
              "    .dataframe thead th {\n",
              "        text-align: right;\n",
              "    }\n",
              "</style>\n",
              "<table border=\"1\" class=\"dataframe\">\n",
              "  <thead>\n",
              "    <tr style=\"text-align: right;\">\n",
              "      <th></th>\n",
              "      <th>age</th>\n",
              "      <th>age_o</th>\n",
              "      <th>d_age</th>\n",
              "      <th>d_d_age</th>\n",
              "      <th>samerace</th>\n",
              "      <th>importance_same_race</th>\n",
              "      <th>importance_same_religion</th>\n",
              "      <th>d_importance_same_race</th>\n",
              "      <th>d_importance_same_religion</th>\n",
              "      <th>pref_o_attractive</th>\n",
              "      <th>...</th>\n",
              "      <th>field_math</th>\n",
              "      <th>field_medicine</th>\n",
              "      <th>field_microbiology</th>\n",
              "      <th>field_money</th>\n",
              "      <th>field_nutrition</th>\n",
              "      <th>field_philosophy</th>\n",
              "      <th>field_physics</th>\n",
              "      <th>field_psychology</th>\n",
              "      <th>field_sociology</th>\n",
              "      <th>field_working</th>\n",
              "    </tr>\n",
              "  </thead>\n",
              "  <tbody>\n",
              "    <tr>\n",
              "      <th>0</th>\n",
              "      <td>21</td>\n",
              "      <td>27</td>\n",
              "      <td>6</td>\n",
              "      <td>2.0</td>\n",
              "      <td>0</td>\n",
              "      <td>2</td>\n",
              "      <td>4</td>\n",
              "      <td>1.0</td>\n",
              "      <td>1.0</td>\n",
              "      <td>35</td>\n",
              "      <td>...</td>\n",
              "      <td>0</td>\n",
              "      <td>0</td>\n",
              "      <td>0</td>\n",
              "      <td>0</td>\n",
              "      <td>0</td>\n",
              "      <td>0</td>\n",
              "      <td>0</td>\n",
              "      <td>0</td>\n",
              "      <td>0</td>\n",
              "      <td>0</td>\n",
              "    </tr>\n",
              "    <tr>\n",
              "      <th>1</th>\n",
              "      <td>21</td>\n",
              "      <td>22</td>\n",
              "      <td>1</td>\n",
              "      <td>0.0</td>\n",
              "      <td>0</td>\n",
              "      <td>2</td>\n",
              "      <td>4</td>\n",
              "      <td>1.0</td>\n",
              "      <td>1.0</td>\n",
              "      <td>60</td>\n",
              "      <td>...</td>\n",
              "      <td>0</td>\n",
              "      <td>0</td>\n",
              "      <td>0</td>\n",
              "      <td>0</td>\n",
              "      <td>0</td>\n",
              "      <td>0</td>\n",
              "      <td>0</td>\n",
              "      <td>0</td>\n",
              "      <td>0</td>\n",
              "      <td>0</td>\n",
              "    </tr>\n",
              "    <tr>\n",
              "      <th>3</th>\n",
              "      <td>21</td>\n",
              "      <td>23</td>\n",
              "      <td>2</td>\n",
              "      <td>1.0</td>\n",
              "      <td>0</td>\n",
              "      <td>2</td>\n",
              "      <td>4</td>\n",
              "      <td>1.0</td>\n",
              "      <td>1.0</td>\n",
              "      <td>30</td>\n",
              "      <td>...</td>\n",
              "      <td>0</td>\n",
              "      <td>0</td>\n",
              "      <td>0</td>\n",
              "      <td>0</td>\n",
              "      <td>0</td>\n",
              "      <td>0</td>\n",
              "      <td>0</td>\n",
              "      <td>0</td>\n",
              "      <td>0</td>\n",
              "      <td>0</td>\n",
              "    </tr>\n",
              "    <tr>\n",
              "      <th>4</th>\n",
              "      <td>21</td>\n",
              "      <td>24</td>\n",
              "      <td>3</td>\n",
              "      <td>1.0</td>\n",
              "      <td>0</td>\n",
              "      <td>2</td>\n",
              "      <td>4</td>\n",
              "      <td>1.0</td>\n",
              "      <td>1.0</td>\n",
              "      <td>30</td>\n",
              "      <td>...</td>\n",
              "      <td>0</td>\n",
              "      <td>0</td>\n",
              "      <td>0</td>\n",
              "      <td>0</td>\n",
              "      <td>0</td>\n",
              "      <td>0</td>\n",
              "      <td>0</td>\n",
              "      <td>0</td>\n",
              "      <td>0</td>\n",
              "      <td>0</td>\n",
              "    </tr>\n",
              "    <tr>\n",
              "      <th>5</th>\n",
              "      <td>21</td>\n",
              "      <td>25</td>\n",
              "      <td>4</td>\n",
              "      <td>2.0</td>\n",
              "      <td>0</td>\n",
              "      <td>2</td>\n",
              "      <td>4</td>\n",
              "      <td>1.0</td>\n",
              "      <td>1.0</td>\n",
              "      <td>50</td>\n",
              "      <td>...</td>\n",
              "      <td>0</td>\n",
              "      <td>0</td>\n",
              "      <td>0</td>\n",
              "      <td>0</td>\n",
              "      <td>0</td>\n",
              "      <td>0</td>\n",
              "      <td>0</td>\n",
              "      <td>0</td>\n",
              "      <td>0</td>\n",
              "      <td>0</td>\n",
              "    </tr>\n",
              "    <tr>\n",
              "      <th>...</th>\n",
              "      <td>...</td>\n",
              "      <td>...</td>\n",
              "      <td>...</td>\n",
              "      <td>...</td>\n",
              "      <td>...</td>\n",
              "      <td>...</td>\n",
              "      <td>...</td>\n",
              "      <td>...</td>\n",
              "      <td>...</td>\n",
              "      <td>...</td>\n",
              "      <td>...</td>\n",
              "      <td>...</td>\n",
              "      <td>...</td>\n",
              "      <td>...</td>\n",
              "      <td>...</td>\n",
              "      <td>...</td>\n",
              "      <td>...</td>\n",
              "      <td>...</td>\n",
              "      <td>...</td>\n",
              "      <td>...</td>\n",
              "      <td>...</td>\n",
              "    </tr>\n",
              "    <tr>\n",
              "      <th>8369</th>\n",
              "      <td>25</td>\n",
              "      <td>22</td>\n",
              "      <td>3</td>\n",
              "      <td>1.0</td>\n",
              "      <td>1</td>\n",
              "      <td>1</td>\n",
              "      <td>1</td>\n",
              "      <td>0.0</td>\n",
              "      <td>0.0</td>\n",
              "      <td>10</td>\n",
              "      <td>...</td>\n",
              "      <td>0</td>\n",
              "      <td>0</td>\n",
              "      <td>0</td>\n",
              "      <td>0</td>\n",
              "      <td>0</td>\n",
              "      <td>0</td>\n",
              "      <td>0</td>\n",
              "      <td>0</td>\n",
              "      <td>0</td>\n",
              "      <td>0</td>\n",
              "    </tr>\n",
              "    <tr>\n",
              "      <th>8370</th>\n",
              "      <td>25</td>\n",
              "      <td>27</td>\n",
              "      <td>2</td>\n",
              "      <td>1.0</td>\n",
              "      <td>0</td>\n",
              "      <td>1</td>\n",
              "      <td>1</td>\n",
              "      <td>0.0</td>\n",
              "      <td>0.0</td>\n",
              "      <td>10</td>\n",
              "      <td>...</td>\n",
              "      <td>0</td>\n",
              "      <td>0</td>\n",
              "      <td>0</td>\n",
              "      <td>0</td>\n",
              "      <td>0</td>\n",
              "      <td>0</td>\n",
              "      <td>0</td>\n",
              "      <td>0</td>\n",
              "      <td>0</td>\n",
              "      <td>0</td>\n",
              "    </tr>\n",
              "    <tr>\n",
              "      <th>8372</th>\n",
              "      <td>25</td>\n",
              "      <td>24</td>\n",
              "      <td>1</td>\n",
              "      <td>0.0</td>\n",
              "      <td>1</td>\n",
              "      <td>1</td>\n",
              "      <td>1</td>\n",
              "      <td>0.0</td>\n",
              "      <td>0.0</td>\n",
              "      <td>10</td>\n",
              "      <td>...</td>\n",
              "      <td>0</td>\n",
              "      <td>0</td>\n",
              "      <td>0</td>\n",
              "      <td>0</td>\n",
              "      <td>0</td>\n",
              "      <td>0</td>\n",
              "      <td>0</td>\n",
              "      <td>0</td>\n",
              "      <td>0</td>\n",
              "      <td>0</td>\n",
              "    </tr>\n",
              "    <tr>\n",
              "      <th>8374</th>\n",
              "      <td>25</td>\n",
              "      <td>24</td>\n",
              "      <td>1</td>\n",
              "      <td>0.0</td>\n",
              "      <td>0</td>\n",
              "      <td>1</td>\n",
              "      <td>1</td>\n",
              "      <td>0.0</td>\n",
              "      <td>0.0</td>\n",
              "      <td>50</td>\n",
              "      <td>...</td>\n",
              "      <td>0</td>\n",
              "      <td>0</td>\n",
              "      <td>0</td>\n",
              "      <td>0</td>\n",
              "      <td>0</td>\n",
              "      <td>0</td>\n",
              "      <td>0</td>\n",
              "      <td>0</td>\n",
              "      <td>0</td>\n",
              "      <td>0</td>\n",
              "    </tr>\n",
              "    <tr>\n",
              "      <th>8377</th>\n",
              "      <td>25</td>\n",
              "      <td>22</td>\n",
              "      <td>3</td>\n",
              "      <td>1.0</td>\n",
              "      <td>0</td>\n",
              "      <td>1</td>\n",
              "      <td>1</td>\n",
              "      <td>0.0</td>\n",
              "      <td>0.0</td>\n",
              "      <td>20</td>\n",
              "      <td>...</td>\n",
              "      <td>0</td>\n",
              "      <td>0</td>\n",
              "      <td>0</td>\n",
              "      <td>0</td>\n",
              "      <td>0</td>\n",
              "      <td>0</td>\n",
              "      <td>0</td>\n",
              "      <td>0</td>\n",
              "      <td>0</td>\n",
              "      <td>0</td>\n",
              "    </tr>\n",
              "  </tbody>\n",
              "</table>\n",
              "<p>6466 rows × 372 columns</p>\n",
              "</div>\n",
              "      <button class=\"colab-df-convert\" onclick=\"convertToInteractive('df-7b3134eb-052e-48fb-b038-cdf8ded912b2')\"\n",
              "              title=\"Convert this dataframe to an interactive table.\"\n",
              "              style=\"display:none;\">\n",
              "        \n",
              "  <svg xmlns=\"http://www.w3.org/2000/svg\" height=\"24px\"viewBox=\"0 0 24 24\"\n",
              "       width=\"24px\">\n",
              "    <path d=\"M0 0h24v24H0V0z\" fill=\"none\"/>\n",
              "    <path d=\"M18.56 5.44l.94 2.06.94-2.06 2.06-.94-2.06-.94-.94-2.06-.94 2.06-2.06.94zm-11 1L8.5 8.5l.94-2.06 2.06-.94-2.06-.94L8.5 2.5l-.94 2.06-2.06.94zm10 10l.94 2.06.94-2.06 2.06-.94-2.06-.94-.94-2.06-.94 2.06-2.06.94z\"/><path d=\"M17.41 7.96l-1.37-1.37c-.4-.4-.92-.59-1.43-.59-.52 0-1.04.2-1.43.59L10.3 9.45l-7.72 7.72c-.78.78-.78 2.05 0 2.83L4 21.41c.39.39.9.59 1.41.59.51 0 1.02-.2 1.41-.59l7.78-7.78 2.81-2.81c.8-.78.8-2.07 0-2.86zM5.41 20L4 18.59l7.72-7.72 1.47 1.35L5.41 20z\"/>\n",
              "  </svg>\n",
              "      </button>\n",
              "      \n",
              "  <style>\n",
              "    .colab-df-container {\n",
              "      display:flex;\n",
              "      flex-wrap:wrap;\n",
              "      gap: 12px;\n",
              "    }\n",
              "\n",
              "    .colab-df-convert {\n",
              "      background-color: #E8F0FE;\n",
              "      border: none;\n",
              "      border-radius: 50%;\n",
              "      cursor: pointer;\n",
              "      display: none;\n",
              "      fill: #1967D2;\n",
              "      height: 32px;\n",
              "      padding: 0 0 0 0;\n",
              "      width: 32px;\n",
              "    }\n",
              "\n",
              "    .colab-df-convert:hover {\n",
              "      background-color: #E2EBFA;\n",
              "      box-shadow: 0px 1px 2px rgba(60, 64, 67, 0.3), 0px 1px 3px 1px rgba(60, 64, 67, 0.15);\n",
              "      fill: #174EA6;\n",
              "    }\n",
              "\n",
              "    [theme=dark] .colab-df-convert {\n",
              "      background-color: #3B4455;\n",
              "      fill: #D2E3FC;\n",
              "    }\n",
              "\n",
              "    [theme=dark] .colab-df-convert:hover {\n",
              "      background-color: #434B5C;\n",
              "      box-shadow: 0px 1px 3px 1px rgba(0, 0, 0, 0.15);\n",
              "      filter: drop-shadow(0px 1px 2px rgba(0, 0, 0, 0.3));\n",
              "      fill: #FFFFFF;\n",
              "    }\n",
              "  </style>\n",
              "\n",
              "      <script>\n",
              "        const buttonEl =\n",
              "          document.querySelector('#df-7b3134eb-052e-48fb-b038-cdf8ded912b2 button.colab-df-convert');\n",
              "        buttonEl.style.display =\n",
              "          google.colab.kernel.accessAllowed ? 'block' : 'none';\n",
              "\n",
              "        async function convertToInteractive(key) {\n",
              "          const element = document.querySelector('#df-7b3134eb-052e-48fb-b038-cdf8ded912b2');\n",
              "          const dataTable =\n",
              "            await google.colab.kernel.invokeFunction('convertToInteractive',\n",
              "                                                     [key], {});\n",
              "          if (!dataTable) return;\n",
              "\n",
              "          const docLinkHtml = 'Like what you see? Visit the ' +\n",
              "            '<a target=\"_blank\" href=https://colab.research.google.com/notebooks/data_table.ipynb>data table notebook</a>'\n",
              "            + ' to learn more about interactive tables.';\n",
              "          element.innerHTML = '';\n",
              "          dataTable['output_type'] = 'display_data';\n",
              "          await google.colab.output.renderOutput(dataTable, element);\n",
              "          const docLink = document.createElement('div');\n",
              "          docLink.innerHTML = docLinkHtml;\n",
              "          element.appendChild(docLink);\n",
              "        }\n",
              "      </script>\n",
              "    </div>\n",
              "  </div>\n",
              "  "
            ]
          },
          "metadata": {},
          "execution_count": 12
        }
      ]
    },
    {
      "cell_type": "markdown",
      "source": [
        "## Resampling"
      ],
      "metadata": {
        "id": "7jXiE_K9Ywb6"
      }
    },
    {
      "cell_type": "code",
      "source": [
        "rus = RandomUnderSampler(replacement = False, random_state = 42)\n",
        "ros = RandomOverSampler(random_state = 42)\n",
        "smote = SMOTE(random_state = 42)\n",
        "\n",
        "X_train_resample, X_test_resample, y_train_resample, y_test_resample = train_test_split(X, y, test_size=0.2, random_state=42)\n",
        "\n",
        "X_train_resample_rus, y_train_resample_rus = rus.fit_resample(X_train_resample, y_train_resample)\n",
        "X_train_resample_ros, y_train_resample_ros = ros.fit_resample(X_train_resample, y_train_resample)\n",
        "X_train_resample_smote, y_train_resample_smote = smote.fit_resample(X_train_resample, y_train_resample)\n",
        "\n",
        "print(\"Random Undersampling Value Counts:\\n\", y_train_resample_rus.value_counts(), \"\\n\")\n",
        "print(\"Random Oversampling Value Counts:\\n\", y_train_resample_ros.value_counts(), \"\\n\")\n",
        "print(\"SMOTE Oversampling Value Counts:\\n\", y_train_resample_smote.value_counts(), \"\\n\")"
      ],
      "metadata": {
        "colab": {
          "base_uri": "https://localhost:8080/"
        },
        "id": "7ZN4aL0GGk1b",
        "outputId": "5c4d8d73-c319-49c5-c24e-cfd23dc33e03"
      },
      "execution_count": 13,
      "outputs": [
        {
          "output_type": "stream",
          "name": "stdout",
          "text": [
            "Random Undersampling Value Counts:\n",
            " 0    888\n",
            "1    888\n",
            "Name: match, dtype: int64 \n",
            "\n",
            "Random Oversampling Value Counts:\n",
            " 0    4284\n",
            "1    4284\n",
            "Name: match, dtype: int64 \n",
            "\n",
            "SMOTE Oversampling Value Counts:\n",
            " 0    4284\n",
            "1    4284\n",
            "Name: match, dtype: int64 \n",
            "\n"
          ]
        }
      ]
    },
    {
      "cell_type": "code",
      "source": [
        "from sklearn.decomposition import PCA\n",
        "pca = PCA(n_components=50)\n",
        "X_train_pca=pca.fit_transform(X_train)\n",
        "X_test_pca=pca.transform(X_test)"
      ],
      "metadata": {
        "id": "JK_FyUd4yg5O"
      },
      "execution_count": 14,
      "outputs": []
    },
    {
      "cell_type": "markdown",
      "source": [
        "# **Logistic Regression**"
      ],
      "metadata": {
        "id": "M-foz7FEsLXY"
      }
    },
    {
      "cell_type": "code",
      "source": [
        "from sklearn.metrics import accuracy_score, precision_score, recall_score, confusion_matrix, f1_score, roc_auc_score \n",
        "model = LogisticRegression(random_state=0)\n",
        "lrc = model.fit(X_train, y_train)\n",
        "predict_train_lrc = lrc.predict(X_train)\n",
        "predict_test_lrc = lrc.predict(X_test)\n",
        "print('Training Accuracy:', metrics.accuracy_score(y_train, predict_train_lrc))\n",
        "print('Production Accuracy:', metrics.accuracy_score(y_test, predict_test_lrc))\n",
        "\n",
        "precision = precision_score(y_true=y_test, y_pred= predict_test_lrc)\n",
        "print(\"Precision Score: %f\" % precision)\n",
        "recall = recall_score(y_true=y_test, y_pred= predict_test_lrc)\n",
        "print(\"Recall Score: %f\" % recall)\n",
        "f1 = f1_score(y_true = y_test, y_pred = predict_test_lrc)\n",
        "print(\"F1 Score: %f\" %f1)\n",
        "\n",
        "ConfusionMatrixDisplay.from_estimator(lrc, X_test, y_test, cmap = \"Reds\");\n",
        "plt.title(\"Confusion Matrix\")\n",
        "plt.show()"
      ],
      "metadata": {
        "colab": {
          "base_uri": "https://localhost:8080/",
          "height": 384
        },
        "id": "bGr5XUuc5olf",
        "outputId": "f66423d6-2f5d-4f06-d786-323ca9950062"
      },
      "execution_count": 15,
      "outputs": [
        {
          "output_type": "stream",
          "name": "stdout",
          "text": [
            "Training Accuracy: 0.8575019334880124\n",
            "Production Accuracy: 0.848531684698609\n",
            "Precision Score: 0.589404\n",
            "Recall Score: 0.399103\n",
            "F1 Score: 0.475936\n"
          ]
        },
        {
          "output_type": "display_data",
          "data": {
            "text/plain": [
              "<Figure size 432x288 with 2 Axes>"
            ],
            "image/png": "[encoded data removed]"
          },
          "metadata": {
            "needs_background": "light"
          }
        }
      ]
    },
    {
      "cell_type": "code",
      "source": [
        "# Logistic regression model using dataset after random undersampling\n",
        "# Seems like it's not doing well\n",
        "model = LogisticRegression(random_state=0)\n",
        "lrc_rus = model.fit(X_train_resample_rus, y_train_resample_rus)\n",
        "predict_train_lrc_rus = lrc_rus.predict(X_train)\n",
        "predict_test_lrc_rus = lrc_rus.predict(X_test)\n",
        "print('Training Accuracy:', metrics.accuracy_score(y_train, predict_train_lrc_rus))\n",
        "print('Production Accuracy:', metrics.accuracy_score(y_test, predict_test_lrc_rus))\n",
        "\n",
        "precision_rus = precision_score(y_true=y_test, y_pred= predict_test_lrc_rus)\n",
        "print(\"Precision Score: %f\" % precision_rus)\n",
        "recall_rus = recall_score(y_true=y_test, y_pred= predict_test_lrc_rus)\n",
        "print(\"Recall Score: %f\" % recall_rus)\n",
        "f1_rus = f1_score(y_true = y_test, y_pred = predict_test_lrc_rus)\n",
        "print(\"F1 Score: %f\" %f1_rus)\n",
        "ConfusionMatrixDisplay.from_estimator(lrc_rus, X_test, y_test, cmap = \"Reds\");\n",
        "plt.title(\"Confusion Matrix\")\n",
        "plt.show()"
      ],
      "metadata": {
        "colab": {
          "base_uri": "https://localhost:8080/",
          "height": 384
        },
        "id": "eQoQ27eWIHp5",
        "outputId": "d6bba6d4-e218-4e6e-92d0-e45a9ad0c934"
      },
      "execution_count": 16,
      "outputs": [
        {
          "output_type": "stream",
          "name": "stdout",
          "text": [
            "Training Accuracy: 0.7602474864655839\n",
            "Production Accuracy: 0.7426584234930448\n",
            "Precision Score: 0.384937\n",
            "Recall Score: 0.825112\n",
            "F1 Score: 0.524964\n"
          ]
        },
        {
          "output_type": "display_data",
          "data": {
            "text/plain": [
              "<Figure size 432x288 with 2 Axes>"
            ],
            "image/png": "[encoded data removed]"
          },
          "metadata": {
            "needs_background": "light"
          }
        }
      ]
    },
    {
      "cell_type": "code",
      "source": [
        "# Logistic regression model using dataset after random oversampling\n",
        "# Slightly better than undersampling\n",
        "model = LogisticRegression(random_state=0)\n",
        "lrc_ros = model.fit(X_train_resample_ros, y_train_resample_ros)\n",
        "predict_train_lrc_ros = lrc_ros.predict(X_train)\n",
        "predict_test_lrc_ros = lrc_ros.predict(X_test)\n",
        "print('Training Accuracy:', metrics.accuracy_score(y_train, predict_train_lrc_ros))\n",
        "print('Production Accuracy:', metrics.accuracy_score(y_test, predict_test_lrc_ros))\n",
        "\n",
        "precision_ros = precision_score(y_true=y_test, y_pred= predict_test_lrc_ros)\n",
        "print(\"Precision Score: %f\" % precision_ros)\n",
        "recall_ros = recall_score(y_true=y_test, y_pred= predict_test_lrc_ros)\n",
        "print(\"Recall Score: %f\" % recall_ros)\n",
        "f1_ros = f1_score(y_true = y_test, y_pred = predict_test_lrc_ros)\n",
        "print(\"F1 Score: %f\" %f1_ros)\n",
        "ConfusionMatrixDisplay.from_estimator(lrc_ros, X_test, y_test, cmap = \"Reds\");\n",
        "plt.title(\"Confusion Matrix\")\n",
        "plt.show()"
      ],
      "metadata": {
        "colab": {
          "base_uri": "https://localhost:8080/",
          "height": 384
        },
        "id": "JU5XwcSOJSVt",
        "outputId": "f5a90b61-ac6e-451f-84c0-94bdcd7ed22d"
      },
      "execution_count": 17,
      "outputs": [
        {
          "output_type": "stream",
          "name": "stdout",
          "text": [
            "Training Accuracy: 0.779969064191802\n",
            "Production Accuracy: 0.7627511591962906\n",
            "Precision Score: 0.403670\n",
            "Recall Score: 0.789238\n",
            "F1 Score: 0.534143\n"
          ]
        },
        {
          "output_type": "display_data",
          "data": {
            "text/plain": [
              "<Figure size 432x288 with 2 Axes>"
            ],
            "image/png": "[encoded data removed]"
          },
          "metadata": {
            "needs_background": "light"
          }
        }
      ]
    },
    {
      "cell_type": "code",
      "source": [
        "# Logistic regression model using dataset after SMOTE oversampling\n",
        "# Generally better than the other two resampling methods, has a slightly higher test accuracy \n",
        "# but lower precision than the model trained using stratified sampling\n",
        "model = LogisticRegression(random_state=0)\n",
        "lrc_smote = model.fit(X_train_resample_smote, y_train_resample_smote)\n",
        "predict_train_lrc_smote = lrc_smote.predict(X_train)\n",
        "predict_test_lrc_smote = lrc_smote.predict(X_test)\n",
        "print('Training Accuracy:', metrics.accuracy_score(y_train, predict_train_lrc_smote))\n",
        "print('Production Accuracy:', metrics.accuracy_score(y_test, predict_test_lrc_smote))\n",
        "\n",
        "precision_smote = precision_score(y_true=y_test, y_pred= predict_test_lrc_smote)\n",
        "print(\"Precision Score: %f\" % precision_smote)\n",
        "recall_smote = recall_score(y_true=y_test, y_pred= predict_test_lrc_smote)\n",
        "print(\"Recall Score: %f\" % recall_smote)\n",
        "f1_smote = f1_score(y_true = y_test, y_pred = predict_test_lrc_smote)\n",
        "print(\"F1 Score: %f\" %f1_smote)\n",
        "ConfusionMatrixDisplay.from_estimator(lrc_smote, X_test, y_test, cmap = \"Reds\");\n",
        "plt.title(\"Confusion Matrix\")\n",
        "plt.show()"
      ],
      "metadata": {
        "colab": {
          "base_uri": "https://localhost:8080/",
          "height": 384
        },
        "id": "SgMfy9nhJ7yq",
        "outputId": "70c014b3-bc60-4cd9-80a6-a683ce626fdc"
      },
      "execution_count": 18,
      "outputs": [
        {
          "output_type": "stream",
          "name": "stdout",
          "text": [
            "Training Accuracy: 0.7938901778808971\n",
            "Production Accuracy: 0.7936630602782071\n",
            "Precision Score: 0.439891\n",
            "Recall Score: 0.721973\n",
            "F1 Score: 0.546689\n"
          ]
        },
        {
          "output_type": "display_data",
          "data": {
            "text/plain": [
              "<Figure size 432x288 with 2 Axes>"
            ],
            "image/png": "[encoded data removed]"
          },
          "metadata": {
            "needs_background": "light"
          }
        }
      ]
    },
    {
      "cell_type": "code",
      "source": [
        "#PCA\n",
        "model = LogisticRegression(random_state=0)\n",
        "lrc_pca = model.fit(X_train_pca, y_train)\n",
        "predict_train_lrc_pca = lrc_pca.predict(X_train_pca)\n",
        "predict_test_lrc_pca = lrc_pca.predict(X_test_pca)\n",
        "print('Training Accuracy:', metrics.accuracy_score(y_train, predict_train_lrc_pca))\n",
        "print('Production Accuracy:', metrics.accuracy_score(y_test, predict_test_lrc_pca))\n",
        "\n",
        "precision_pca = precision_score(y_true=y_test, y_pred= predict_test_lrc_pca)\n",
        "print(\"Precision Score: %f\" % precision_pca)\n",
        "recall_pca = recall_score(y_true=y_test, y_pred= predict_test_lrc_pca)\n",
        "print(\"Recall Score: %f\" % recall_pca)\n",
        "f1_pca = f1_score(y_true = y_test, y_pred = predict_test_lrc_pca)\n",
        "print(\"F1 Score: %f\" %f1_pca)\n",
        "ConfusionMatrixDisplay.from_estimator(lrc_pca, X_test_pca, y_test, cmap = \"Reds\");\n",
        "plt.title(\"Confusion Matrix\")\n",
        "plt.show()"
      ],
      "metadata": {
        "id": "K8Hgs1ad5kC-",
        "colab": {
          "base_uri": "https://localhost:8080/",
          "height": 384
        },
        "outputId": "b52ce427-fc7d-4634-ba4c-5181f31a94ab"
      },
      "execution_count": 19,
      "outputs": [
        {
          "output_type": "stream",
          "name": "stdout",
          "text": [
            "Training Accuracy: 0.8497679814385151\n",
            "Production Accuracy: 0.8547140649149922\n",
            "Precision Score: 0.654867\n",
            "Recall Score: 0.331839\n",
            "F1 Score: 0.440476\n"
          ]
        },
        {
          "output_type": "display_data",
          "data": {
            "text/plain": [
              "<Figure size 432x288 with 2 Axes>"
            ],
            "image/png": "[encoded data removed]"
          },
          "metadata": {
            "needs_background": "light"
          }
        }
      ]
    },
    {
      "cell_type": "code",
      "source": [
        "fig = plot_roc_curve(lrc,  X_test, y_test, label = \"Logistic Regression - No Sampling\")\n",
        "fig = plot_roc_curve(lrc_ros,  X_test, y_test, ax = fig.ax_, label = \"Logistic Regressiont - Over Sampling\")\n",
        "fig = plot_roc_curve(lrc_rus,  X_test, y_test, ax = fig.ax_, label = \"Logistic Regression - Under Sampling\")\n",
        "fig = plot_roc_curve(lrc_smote,  X_test, y_test, ax = fig.ax_, label = \"Logistic Regression - SMOTE\")\n",
        "fig = plot_roc_curve(lrc_pca,  X_test_pca, y_test, ax = fig.ax_, label = \"Logistic Regression - PCA\")\n",
        "plt.title(\"ROC curve for Logistic Regression\")\n",
        "plt.show()"
      ],
      "metadata": {
        "id": "phc9W43TAlSy"
      },
      "execution_count": null,
      "outputs": []
    },
    {
      "cell_type": "code",
      "source": [
        "fig = plot_precision_recall_curve(lrc,  X_test, y_test, label = \"Logistic Regression - No Sampling\")\n",
        "fig = plot_precision_recall_curve(lrc_ros,  X_test, y_test, ax = fig.ax_, label = \"Logistic Regressiont - Over Sampling\")\n",
        "fig = plot_precision_recall_curve(lrc_rus,  X_test, y_test, ax = fig.ax_, label = \"Logistic Regression - Under Sampling\")\n",
        "fig = plot_precision_recall_curve(lrc_smote,  X_test, y_test, ax = fig.ax_, label = \"Logistic Regression - SMOTE\")\n",
        "fig = plot_precision_recall_curve(lrc_pca,  X_test_pca, y_test, ax = fig.ax_, label = \"Logistic Regression - PCA\")\n",
        "plt.title(\"Precision Recall Curve for Logistic Regression\")\n",
        "plt.show()"
      ],
      "metadata": {
        "colab": {
          "base_uri": "https://localhost:8080/",
          "height": 295
        },
        "id": "PEvzLoq9A_pY",
        "outputId": "1c95a316-d22b-4781-8b3b-2af763778d47"
      },
      "execution_count": 21,
      "outputs": [
        {
          "output_type": "display_data",
          "data": {
            "text/plain": [
              "<Figure size 432x288 with 1 Axes>"
            ],
            "image/png": "[encoded data removed]"
          },
          "metadata": {
            "needs_background": "light"
          }
        }
      ]
    },
    {
      "cell_type": "markdown",
      "source": [
        "# Random Forest "
      ],
      "metadata": {
        "id": "RCX4GQthsf1r"
      }
    },
    {
      "cell_type": "code",
      "source": [
        "# model = RandomForestClassifier()\n",
        "# rf_model = model.fit(X_train, y_train)\n",
        "# predict_train_rf = rf_model.predict(X_train)\n",
        "# predict_test_rf = rf_model.predict(X_test)\n",
        "# print('Training Accuracy:', metrics.accuracy_score(y_train, predict_train_rf))\n",
        "# print('Production Accuracy:', metrics.accuracy_score(y_test, predict_test_rf))\n",
        "\n",
        "# precision = precision_score(y_true=y_test, y_pred= predict_test_rf)\n",
        "# print(\"Precision Score: %f\" % precision)\n",
        "# recall = recall_score(y_true=y_test, y_pred= predict_test_rf)\n",
        "# print(\"Recall Score: %f\" % recall)\n",
        "# f1 = f1_score(y_true = y_test, y_pred = predict_test_rf)\n",
        "# print(\"F1 Score: %f\" %f1)\n",
        "# ConfusionMatrixDisplay.from_estimator(rf_model, X_test, y_test, cmap = \"Reds\");"
      ],
      "metadata": {
        "id": "cndG9ZXh5rcS"
      },
      "execution_count": 22,
      "outputs": []
    },
    {
      "cell_type": "code",
      "source": [
        "from sklearn.model_selection import GridSearchCV\n",
        "params = {\n",
        "    'n_estimators' : [5, 10, 50, 100],\n",
        "    'criterion' : ['gini', 'entropy'],\n",
        "    'max_depth': [5, 10, 100], \n",
        "    'min_samples_split': [2, 10, 100],\n",
        "    'max_features': [2, 4, 'auto']\n",
        "}\n",
        "\n",
        "grid_search_cv = GridSearchCV( \n",
        "    estimator=RandomForestClassifier(random_state=20), \n",
        "    param_grid=params,\n",
        "    scoring='accuracy')\n",
        "\n",
        "grid_search_cv.fit(X_train, y_train)\n",
        "\n",
        "print(grid_search_cv.best_params_)\n",
        "\n",
        "model = grid_search_cv.best_estimator_"
      ],
      "metadata": {
        "colab": {
          "base_uri": "https://localhost:8080/"
        },
        "id": "eeljagbBBsFa",
        "outputId": "fc804d69-b29f-4241-ed19-e09b6318720a"
      },
      "execution_count": 23,
      "outputs": [
        {
          "output_type": "stream",
          "name": "stdout",
          "text": [
            "{'criterion': 'gini', 'max_depth': 100, 'max_features': 'auto', 'min_samples_split': 2, 'n_estimators': 100}\n"
          ]
        }
      ]
    },
    {
      "cell_type": "code",
      "source": [
        "#re-training the model \n",
        "model = RandomForestClassifier(criterion= 'gini', max_depth= 100, max_features= 'auto', min_samples_split= 2, n_estimators= 100)\n",
        "rf_model = model.fit(X_train, y_train)\n",
        "predict_train_rf = rf_model.predict(X_train)\n",
        "predict_test_rf = rf_model.predict(X_test)\n",
        "print('Training Accuracy:', metrics.accuracy_score(y_train, predict_train_rf))\n",
        "print('Production Accuracy:', metrics.accuracy_score(y_test, predict_test_rf))\n",
        "\n",
        "precision = precision_score(y_true=y_test, y_pred= predict_test_rf)\n",
        "print(\"Precision Score: %f\" % precision)\n",
        "recall = recall_score(y_true=y_test, y_pred= predict_test_rf)\n",
        "print(\"Recall Score: %f\" % recall)\n",
        "f1 = f1_score(y_true = y_test, y_pred = predict_test_rf)\n",
        "print(\"F1 Score: %f\" %f1)\n",
        "\n",
        "ConfusionMatrixDisplay.from_estimator(rf_model, X_test, y_test, cmap = \"Reds\");\n",
        "plt.title(\"Confusion Matrix\")\n",
        "plt.show()"
      ],
      "metadata": {
        "colab": {
          "base_uri": "https://localhost:8080/",
          "height": 384
        },
        "id": "GEqlWrm3GbwP",
        "outputId": "53d92f6f-3b13-45c7-8b34-87a94be737f3"
      },
      "execution_count": 24,
      "outputs": [
        {
          "output_type": "stream",
          "name": "stdout",
          "text": [
            "Training Accuracy: 1.0\n",
            "Production Accuracy: 0.8585780525502318\n",
            "Precision Score: 0.822581\n",
            "Recall Score: 0.228700\n",
            "F1 Score: 0.357895\n"
          ]
        },
        {
          "output_type": "display_data",
          "data": {
            "text/plain": [
              "<Figure size 432x288 with 2 Axes>"
            ],
            "image/png": "[encoded data removed]"
          },
          "metadata": {
            "needs_background": "light"
          }
        }
      ]
    },
    {
      "cell_type": "code",
      "source": [
        "# Undersampling causes RF to make much more positive predictions but raises false positives as well\n",
        "# and the overall precision score falls as a result \n",
        "model = RandomForestClassifier(criterion= 'gini', max_depth= 100, max_features= 'auto', min_samples_split= 2, n_estimators= 100)\n",
        "rf_model_rus = model.fit(X_train_resample_rus, y_train_resample_rus)\n",
        "predict_train_rf_rus = rf_model_rus.predict(X_train)\n",
        "predict_test_rf_rus = rf_model_rus.predict(X_test)\n",
        "print('Training Accuracy:', metrics.accuracy_score(y_train, predict_train_rf_rus))\n",
        "print('Production Accuracy:', metrics.accuracy_score(y_test, predict_test_rf_rus))\n",
        "\n",
        "precision_rus = precision_score(y_true=y_test, y_pred= predict_test_rf_rus)\n",
        "print(\"Precision Score: %f\" % precision)\n",
        "recall_rus = recall_score(y_true=y_test, y_pred= predict_test_rf_rus)\n",
        "print(\"Recall Score: %f\" % recall_rus)\n",
        "f1_rus = f1_score(y_true = y_test, y_pred = predict_test_rf_rus)\n",
        "print(\"F1 Score: %f\" %f1_rus)\n",
        "ConfusionMatrixDisplay.from_estimator(rf_model_rus, X_test, y_test, cmap = \"Reds\");\n",
        "plt.title(\"Confusion Matrix\")\n",
        "plt.show()"
      ],
      "metadata": {
        "colab": {
          "base_uri": "https://localhost:8080/",
          "height": 384
        },
        "id": "ay9QdwDvbDpg",
        "outputId": "fd82b660-2376-4a87-9103-941ce7bf8df8"
      },
      "execution_count": 25,
      "outputs": [
        {
          "output_type": "stream",
          "name": "stdout",
          "text": [
            "Training Accuracy: 0.8211523588553751\n",
            "Production Accuracy: 0.8013910355486863\n",
            "Precision Score: 0.822581\n",
            "Recall Score: 0.946188\n",
            "F1 Score: 0.621502\n"
          ]
        },
        {
          "output_type": "display_data",
          "data": {
            "text/plain": [
              "<Figure size 432x288 with 2 Axes>"
            ],
            "image/png": "[encoded data removed]"
          },
          "metadata": {
            "needs_background": "light"
          }
        }
      ]
    },
    {
      "cell_type": "code",
      "source": [
        "# Oversampling\n",
        "model = RandomForestClassifier(criterion= 'gini', max_depth= 100, max_features= 'auto', min_samples_split= 2, n_estimators= 100)\n",
        "rf_model_ros = model.fit(X_train_resample_ros, y_train_resample_ros)\n",
        "predict_train_rf_ros = rf_model_ros.predict(X_train)\n",
        "predict_test_rf_ros = rf_model_ros.predict(X_test)\n",
        "print('Training Accuracy:', metrics.accuracy_score(y_train, predict_train_rf_ros))\n",
        "print('Production Accuracy:', metrics.accuracy_score(y_test, predict_test_rf_ros))\n",
        "\n",
        "precision_ros = precision_score(y_true=y_test, y_pred= predict_test_rf_ros)\n",
        "print(\"Precision Score: %f\" % precision_ros)\n",
        "recall_ros = recall_score(y_true=y_test, y_pred= predict_test_rf_ros)\n",
        "print(\"Recall Score: %f\" % recall_ros)\n",
        "f1_ros = f1_score(y_true = y_test, y_pred = predict_test_rf_ros)\n",
        "print(\"F1 Score: %f\" %f1_ros)\n",
        "ConfusionMatrixDisplay.from_estimator(rf_model_ros, X_test, y_test, cmap = \"Reds\");\n",
        "plt.title(\"Confusion Matrix\")\n",
        "plt.show()"
      ],
      "metadata": {
        "colab": {
          "base_uri": "https://localhost:8080/",
          "height": 384
        },
        "id": "KoJ7y1EGdgC1",
        "outputId": "60e45dd2-cda9-4675-9784-c1da9a235dea"
      },
      "execution_count": 26,
      "outputs": [
        {
          "output_type": "stream",
          "name": "stdout",
          "text": [
            "Training Accuracy: 0.9706109822119103\n",
            "Production Accuracy: 0.9706336939721792\n",
            "Precision Score: 0.951220\n",
            "Recall Score: 0.874439\n",
            "F1 Score: 0.911215\n"
          ]
        },
        {
          "output_type": "display_data",
          "data": {
            "text/plain": [
              "<Figure size 432x288 with 2 Axes>"
            ],
            "image/png": "[encoded data removed]"
          },
          "metadata": {
            "needs_background": "light"
          }
        }
      ]
    },
    {
      "cell_type": "code",
      "source": [
        "# SMOTE\n",
        "model = RandomForestClassifier(criterion= 'gini', max_depth= 100, max_features= 'auto', min_samples_split= 2, n_estimators= 100)\n",
        "rf_model_smote = model.fit(X_train_resample_smote, y_train_resample_smote)\n",
        "predict_train_rf_smote = rf_model_smote.predict(X_train)\n",
        "predict_test_rf_smote = rf_model_smote.predict(X_test)\n",
        "print('Training Accuracy:', metrics.accuracy_score(y_train, predict_train_rf_smote))\n",
        "print('Production Accuracy:', metrics.accuracy_score(y_test, predict_test_rf_smote))\n",
        "\n",
        "precision_smote = precision_score(y_true=y_test, y_pred= predict_test_rf_smote)\n",
        "print(\"Precision Score: %f\" % precision_smote)\n",
        "recall_smote = recall_score(y_true=y_test, y_pred= predict_test_rf_smote)\n",
        "print(\"Recall Score: %f\" % recall_smote)\n",
        "f1_smote = f1_score(y_true = y_test, y_pred = predict_test_rf_smote)\n",
        "print(\"F1 Score: %f\" %f1_smote)\n",
        "\n",
        "ConfusionMatrixDisplay.from_estimator(rf_model_smote, X_test, y_test, cmap = \"Reds\");\n",
        "plt.title(\"Confusion Matrix\")\n",
        "plt.show()"
      ],
      "metadata": {
        "colab": {
          "base_uri": "https://localhost:8080/",
          "height": 384
        },
        "id": "1uxmoDLZWTNB",
        "outputId": "a4884c02-3525-42aa-ec89-85e737ae91c5"
      },
      "execution_count": 27,
      "outputs": [
        {
          "output_type": "stream",
          "name": "stdout",
          "text": [
            "Training Accuracy: 0.9708043310131477\n",
            "Production Accuracy: 0.9675425038639877\n",
            "Precision Score: 0.928910\n",
            "Recall Score: 0.878924\n",
            "F1 Score: 0.903226\n"
          ]
        },
        {
          "output_type": "display_data",
          "data": {
            "text/plain": [
              "<Figure size 432x288 with 2 Axes>"
            ],
            "image/png": "[encoded data removed]"
          },
          "metadata": {
            "needs_background": "light"
          }
        }
      ]
    },
    {
      "cell_type": "code",
      "source": [
        "#PCA\n",
        "\n",
        "model = RandomForestClassifier()\n",
        "rf_model_pca = model.fit(X_train_pca, y_train)\n",
        "predict_train_rf_pca = rf_model_pca.predict(X_train_pca)\n",
        "predict_test_rf_pca = rf_model_pca.predict(X_test_pca)\n",
        "print('Training Accuracy:', metrics.accuracy_score(y_train, predict_train_rf_pca))\n",
        "print('Production Accuracy:', metrics.accuracy_score(y_test, predict_test_rf_pca))\n",
        "\n",
        "precision_pca = precision_score(y_true=y_test, y_pred= predict_test_rf_pca)\n",
        "print(\"Precision Score: %f\" % precision_pca)\n",
        "\n",
        "recall_pca = recall_score(y_true=y_test, y_pred= predict_test_rf_pca)\n",
        "print(\"Recall Score: %f\" % recall_pca)\n",
        "\n",
        "f1_pca = f1_score(y_true = y_test, y_pred = predict_test_rf_pca)\n",
        "print(\"F1 Score: %f\" %f1_pca)\n",
        "ConfusionMatrixDisplay.from_estimator(rf_model_pca, X_test_pca, y_test, cmap = \"Reds\");\n",
        "plt.title(\"Confusion Matrix\")\n",
        "plt.show()"
      ],
      "metadata": {
        "id": "-Xp6aAZGwMNd",
        "colab": {
          "base_uri": "https://localhost:8080/",
          "height": 384
        },
        "outputId": "dca80ecf-e844-4618-fc95-a52e337c5134"
      },
      "execution_count": 28,
      "outputs": [
        {
          "output_type": "stream",
          "name": "stdout",
          "text": [
            "Training Accuracy: 1.0\n",
            "Production Accuracy: 0.839258114374034\n",
            "Precision Score: 0.826087\n",
            "Recall Score: 0.085202\n",
            "F1 Score: 0.154472\n"
          ]
        },
        {
          "output_type": "display_data",
          "data": {
            "text/plain": [
              "<Figure size 432x288 with 2 Axes>"
            ],
            "image/png": "[encoded data removed]"
          },
          "metadata": {
            "needs_background": "light"
          }
        }
      ]
    },
    {
      "cell_type": "code",
      "source": [
        "fig = plot_roc_curve(rf_model,  X_test, y_test, label = \"Random Forest - No Sampling\")\n",
        "fig = plot_roc_curve(rf_model_ros,  X_test, y_test, ax = fig.ax_, label = \"Random Forest - Over Sampling\")\n",
        "fig = plot_roc_curve(rf_model_rus,  X_test, y_test, ax = fig.ax_, label = \"Random Forest - Under Sampling\")\n",
        "fig = plot_roc_curve(rf_model_smote,  X_test, y_test, ax = fig.ax_, label = \"Random Forest - SMOTE\")\n",
        "fig = plot_roc_curve(rf_model_pca,  X_test_pca, y_test, ax = fig.ax_, label = \"Random Forest - PCA\")\n",
        "plt.plot('ROC Curve for Random Forest')\n",
        "plt.show()"
      ],
      "metadata": {
        "colab": {
          "base_uri": "https://localhost:8080/",
          "height": 279
        },
        "id": "DQme7MVheIr6",
        "outputId": "6d9caa44-f932-48de-d579-49fefd656b5f"
      },
      "execution_count": 29,
      "outputs": [
        {
          "output_type": "display_data",
          "data": {
            "text/plain": [
              "<Figure size 432x288 with 1 Axes>"
            ],
            "image/png": "[encoded data removed]"
          },
          "metadata": {
            "needs_background": "light"
          }
        }
      ]
    },
    {
      "cell_type": "code",
      "source": [
        "fig = plot_precision_recall_curve(rf_model,  X_test, y_test, label = \"Random Forest - No Sampling\")\n",
        "fig = plot_precision_recall_curve(rf_model_ros,  X_test, y_test, ax = fig.ax_, label = \"Random Forest - Over Sampling\")\n",
        "fig = plot_precision_recall_curve(rf_model_rus,  X_test, y_test, ax = fig.ax_, label = \"Random Forest - Under Sampling\")\n",
        "fig = plot_precision_recall_curve(rf_model_smote,  X_test, y_test, ax = fig.ax_, label = \"Random Forest - SMOTE\")\n",
        "fig = plot_precision_recall_curve(rf_model_pca,  X_test_pca, y_test, ax = fig.ax_, label = \"Random Forest - PCA\")\n",
        "plt.plot('Precision Recall Curve for Random Forest ')\n",
        "plt.show()"
      ],
      "metadata": {
        "id": "o54t8T2M6RnX",
        "colab": {
          "base_uri": "https://localhost:8080/",
          "height": 279
        },
        "outputId": "fc83bde4-3b8a-4250-807a-7cd7cb0701ab"
      },
      "execution_count": 30,
      "outputs": [
        {
          "output_type": "display_data",
          "data": {
            "text/plain": [
              "<Figure size 432x288 with 1 Axes>"
            ],
            "image/png": "[encoded data removed]"
          },
          "metadata": {
            "needs_background": "light"
          }
        }
      ]
    },
    {
      "cell_type": "markdown",
      "source": [
        "# SVM\n"
      ],
      "metadata": {
        "id": "xpwf3iwQsvnw"
      }
    },
    {
      "cell_type": "code",
      "source": [
        "# Hyperparameter tuning for Support Vector Machine\n",
        "params = {\n",
        "    'kernel': ['rbf', 'sigmoid'],\n",
        "    \"C\": [10, 1, 0.1],\n",
        "    'gamma': ['scale', 'auto', 1, 0.1], \n",
        "}\n",
        "\n",
        "grid_search_cv = GridSearchCV( \n",
        "    estimator=SVC(random_state = 20), \n",
        "    param_grid=params,\n",
        "    scoring='accuracy')\n",
        "\n",
        "grid_search_cv.fit(X_train, y_train)\n",
        "\n",
        "print(grid_search_cv.best_params_)\n",
        "\n",
        "model = grid_search_cv.best_estimator_"
      ],
      "metadata": {
        "colab": {
          "base_uri": "https://localhost:8080/"
        },
        "id": "hS1_D9iphp8C",
        "outputId": "44f87556-9cae-4fd0-da95-99d6d409c308"
      },
      "execution_count": 31,
      "outputs": [
        {
          "output_type": "stream",
          "name": "stdout",
          "text": [
            "{'C': 10, 'gamma': 'scale', 'kernel': 'rbf'}\n"
          ]
        }
      ]
    },
    {
      "cell_type": "code",
      "source": [
        "model = SVC(C = 10, gamma = \"scale\", kernel = \"rbf\")\n",
        "svm_model = model.fit(X_train, y_train)\n",
        "predict_train_svm = svm_model.predict(X_train)\n",
        "predict_test_svm = svm_model.predict(X_test)\n",
        "print('Training Accuracy:', metrics.accuracy_score(y_train, predict_train_svm))\n",
        "print('Production Accuracy:', metrics.accuracy_score(y_test, predict_test_svm))\n",
        "\n",
        "precision = precision_score(y_true=y_test, y_pred= predict_test_svm)\n",
        "print(\"Precision Score: %f\" % precision)\n",
        "recall = recall_score(y_true = y_test, y_pred = predict_test_svm)\n",
        "print(\"Recall Score: %f\" % recall)\n",
        "f1 = f1_score(y_true = y_test, y_pred = predict_test_svm)\n",
        "print(\"F1 Score: %f\" % f1)\n",
        "\n",
        "ConfusionMatrixDisplay.from_estimator(svm_model, X_test, y_test, cmap = \"Reds\");\n",
        "plt.title(\"Confusion Matrix\")\n",
        "plt.show()"
      ],
      "metadata": {
        "colab": {
          "base_uri": "https://localhost:8080/",
          "height": 384
        },
        "id": "Thse2vd-0K0g",
        "outputId": "dc08b8d1-cb4a-4788-fbfd-7353fceb5da9"
      },
      "execution_count": 32,
      "outputs": [
        {
          "output_type": "stream",
          "name": "stdout",
          "text": [
            "Training Accuracy: 0.8546017014694509\n",
            "Production Accuracy: 0.8554868624420402\n",
            "Precision Score: 0.833333\n",
            "Recall Score: 0.201794\n",
            "F1 Score: 0.324910\n"
          ]
        },
        {
          "output_type": "display_data",
          "data": {
            "text/plain": [
              "<Figure size 432x288 with 2 Axes>"
            ],
            "image/png": "[encoded data removed]"
          },
          "metadata": {
            "needs_background": "light"
          }
        }
      ]
    },
    {
      "cell_type": "code",
      "source": [
        "model = SVC(C = 10, gamma = \"scale\", kernel = \"rbf\")\n",
        "svm_model_rus = model.fit(X_train_resample_rus, y_train_resample_rus)\n",
        "predict_train_svm_rus = svm_model_rus.predict(X_train)\n",
        "predict_test_svm_rus = svm_model_rus.predict(X_test)\n",
        "print('Training Accuracy:', metrics.accuracy_score(y_train, predict_train_svm_rus))\n",
        "print('Production Accuracy:', metrics.accuracy_score(y_test, predict_test_svm_rus))\n",
        "\n",
        "precision_rus = precision_score(y_true=y_test, y_pred= predict_test_svm_rus)\n",
        "print(\"Precision Score: %f\" % precision_rus)\n",
        "recall_rus = recall_score(y_true = y_test, y_pred = predict_test_svm_rus)\n",
        "print(\"Recall Score: %f\" % recall_rus)\n",
        "f1_rus = f1_score(y_true = y_test, y_pred = predict_test_svm_rus)\n",
        "print(\"F1 Score: %f\" % f1_rus)\n",
        "\n",
        "ConfusionMatrixDisplay.from_estimator(svm_model_rus, X_test, y_test, cmap = \"Reds\");\n",
        "plt.title(\"Confusion Matrix\")\n",
        "plt.show()"
      ],
      "metadata": {
        "colab": {
          "base_uri": "https://localhost:8080/",
          "height": 384
        },
        "id": "a6hoVGyuB7bA",
        "outputId": "2b615e0c-6028-40d5-8d05-e8c47f32df68"
      },
      "execution_count": 33,
      "outputs": [
        {
          "output_type": "stream",
          "name": "stdout",
          "text": [
            "Training Accuracy: 0.7588940448569219\n",
            "Production Accuracy: 0.7357032457496137\n",
            "Precision Score: 0.378323\n",
            "Recall Score: 0.829596\n",
            "F1 Score: 0.519663\n"
          ]
        },
        {
          "output_type": "display_data",
          "data": {
            "text/plain": [
              "<Figure size 432x288 with 2 Axes>"
            ],
            "image/png": "[encoded data removed]"
          },
          "metadata": {
            "needs_background": "light"
          }
        }
      ]
    },
    {
      "cell_type": "code",
      "source": [
        "model = SVC(C = 10, gamma = \"scale\", kernel = \"rbf\")\n",
        "svm_model_ros = model.fit(X_train_resample_ros, y_train_resample_ros)\n",
        "predict_train_svm_ros = svm_model_ros.predict(X_train)\n",
        "predict_test_svm_ros = svm_model_ros.predict(X_test)\n",
        "print('Training Accuracy:', metrics.accuracy_score(y_train, predict_train_svm_ros))\n",
        "print('Production Accuracy:', metrics.accuracy_score(y_test, predict_test_svm_ros))\n",
        "\n",
        "precision_ros = precision_score(y_true=y_test, y_pred= predict_test_svm_ros)\n",
        "print(\"Precision Score: %f\" % precision_ros)\n",
        "recall_ros = recall_score(y_true = y_test, y_pred = predict_test_svm_ros)\n",
        "print(\"Recall Score: %f\" % recall_ros)\n",
        "f1_ros = f1_score(y_true = y_test, y_pred = predict_test_svm_ros)\n",
        "print(\"F1 Score: %f\" % f1_ros)\n",
        "\n",
        "ConfusionMatrixDisplay.from_estimator(svm_model_ros, X_test, y_test, cmap = \"Reds\");\n",
        "plt.title(\"Confusion Matrix\")\n",
        "plt.show()"
      ],
      "metadata": {
        "colab": {
          "base_uri": "https://localhost:8080/",
          "height": 384
        },
        "id": "PNPY7scLB7r7",
        "outputId": "0656c7cc-30e4-4caa-fe29-1102aef31d1b"
      },
      "execution_count": 34,
      "outputs": [
        {
          "output_type": "stream",
          "name": "stdout",
          "text": [
            "Training Accuracy: 0.8083913379737045\n",
            "Production Accuracy: 0.7936630602782071\n",
            "Precision Score: 0.448598\n",
            "Recall Score: 0.860987\n",
            "F1 Score: 0.589862\n"
          ]
        },
        {
          "output_type": "display_data",
          "data": {
            "text/plain": [
              "<Figure size 432x288 with 2 Axes>"
            ],
            "image/png": "[encoded data removed]"
          },
          "metadata": {
            "needs_background": "light"
          }
        }
      ]
    },
    {
      "cell_type": "code",
      "source": [
        "# SMOTE\n",
        "model = SVC(C = 10, gamma = \"scale\", kernel = \"rbf\")\n",
        "svm_model_smote = model.fit(X_train_resample_smote, y_train_resample_smote)\n",
        "predict_train_svm_smote = svm_model_smote.predict(X_train)\n",
        "predict_test_svm_smote = svm_model_smote.predict(X_test)\n",
        "print('Training Accuracy:', metrics.accuracy_score(y_train, predict_train_svm_smote))\n",
        "print('Production Accuracy:', metrics.accuracy_score(y_test, predict_test_svm_smote))\n",
        "\n",
        "precision_smote = precision_score(y_true=y_test, y_pred= predict_test_svm_smote)\n",
        "print(\"Precision Score: %f\" % precision_smote)\n",
        "recall_smote = recall_score(y_true = y_test, y_pred = predict_test_svm_smote)\n",
        "print(\"Recall Score: %f\" % recall_smote)\n",
        "f1_smote = f1_score(y_true = y_test, y_pred = predict_test_svm_smote)\n",
        "print(\"F1 Score: %f\" % f1_smote)\n",
        "ConfusionMatrixDisplay.from_estimator(svm_model_smote, X_test, y_test, cmap = \"Reds\");\n",
        "plt.title(\"Confusion Matrix\")\n",
        "plt.show()"
      ],
      "metadata": {
        "colab": {
          "base_uri": "https://localhost:8080/",
          "height": 384
        },
        "id": "8nqa1HSO1Nw2",
        "outputId": "3b7fafd8-70d3-487c-d1d5-4653584bb078"
      },
      "execution_count": 35,
      "outputs": [
        {
          "output_type": "stream",
          "name": "stdout",
          "text": [
            "Training Accuracy: 0.834106728538283\n",
            "Production Accuracy: 0.8369397217928902\n",
            "Precision Score: 0.516949\n",
            "Recall Score: 0.820628\n",
            "F1 Score: 0.634315\n"
          ]
        },
        {
          "output_type": "display_data",
          "data": {
            "text/plain": [
              "<Figure size 432x288 with 2 Axes>"
            ],
            "image/png": "[encoded data removed]"
          },
          "metadata": {
            "needs_background": "light"
          }
        }
      ]
    },
    {
      "cell_type": "code",
      "source": [
        "#PCA\n",
        "model = SVC(C = 10, gamma = \"scale\", kernel = \"rbf\")\n",
        "svm_model_pca = model.fit(X_train_pca, y_train)\n",
        "predict_train_svm_pca = svm_model_pca.predict(X_train_pca)\n",
        "predict_test_svm_pca = svm_model_pca.predict(X_test_pca)\n",
        "print('Training Accuracy:', metrics.accuracy_score(y_train, predict_train_svm_pca))\n",
        "print('Production Accuracy:', metrics.accuracy_score(y_test, predict_test_svm_pca))\n",
        "\n",
        "precision = precision_score(y_true=y_test, y_pred= predict_test_svm_pca)\n",
        "print(\"Precision Score: %f\" % precision)\n",
        "recall_pca = recall_score(y_true = y_test, y_pred = predict_test_svm_pca)\n",
        "print(\"Recall Score: %f\" % recall_pca)\n",
        "f1_pca = f1_score(y_true = y_test, y_pred = predict_test_svm_pca)\n",
        "print(\"F1 Score: %f\" % f1_pca)\n",
        "recall_pca = recall_score(y_true=y_test, y_pred= predict_test_svm_pca)\n",
        "print(\"Precision Score: %f\" % recall_pca)\n",
        "ConfusionMatrixDisplay.from_estimator(svm_model_pca, X_test_pca, y_test, cmap = \"Reds\");\n",
        "plt.title(\"Confusion Matrix\")\n",
        "plt.show()"
      ],
      "metadata": {
        "id": "A3UNnXeswZkZ",
        "colab": {
          "base_uri": "https://localhost:8080/",
          "height": 402
        },
        "outputId": "b80e76e8-8d68-4c51-f236-84c6403fbac6"
      },
      "execution_count": 36,
      "outputs": [
        {
          "output_type": "stream",
          "name": "stdout",
          "text": [
            "Training Accuracy: 0.9617169373549884\n",
            "Production Accuracy: 0.8423493044822257\n",
            "Precision Score: 0.556213\n",
            "Recall Score: 0.421525\n",
            "F1 Score: 0.479592\n",
            "Precision Score: 0.421525\n"
          ]
        },
        {
          "output_type": "display_data",
          "data": {
            "text/plain": [
              "<Figure size 432x288 with 2 Axes>"
            ],
            "image/png": "[encoded data removed]"
          },
          "metadata": {
            "needs_background": "light"
          }
        }
      ]
    },
    {
      "cell_type": "code",
      "source": [
        "fig = plot_roc_curve(svm_model,  X_test, y_test, label = \"SVM - No Sampling\")\n",
        "fig = plot_roc_curve(svm_model_ros,  X_test, y_test, ax = fig.ax_, label = \"SVM - Over Sampling\")\n",
        "fig = plot_roc_curve(svm_model_rus,  X_test, y_test, ax = fig.ax_, label = \"SVM - Under Sampling\")\n",
        "fig = plot_roc_curve(svm_model_smote,  X_test, y_test, ax = fig.ax_, label = \"SVM - SMOTE\")\n",
        "fig = plot_roc_curve(svm_model_pca,  X_test_pca, y_test, ax = fig.ax_, label = \"SVM - PCA\")\n",
        "plt.title(\"ROC Curve for SVM\")\n",
        "plt.show()"
      ],
      "metadata": {
        "colab": {
          "base_uri": "https://localhost:8080/",
          "height": 295
        },
        "id": "UhjrQv1PDWgK",
        "outputId": "1a5200ee-bedf-4a56-c70b-72e7393fbca8"
      },
      "execution_count": 37,
      "outputs": [
        {
          "output_type": "display_data",
          "data": {
            "text/plain": [
              "<Figure size 432x288 with 1 Axes>"
            ],
            "image/png": "[encoded data removed]"
          },
          "metadata": {
            "needs_background": "light"
          }
        }
      ]
    },
    {
      "cell_type": "code",
      "source": [
        "fig = plot_precision_recall_curve(svm_model,  X_test, y_test, label = \"SVM - No Sampling\")\n",
        "fig = plot_precision_recall_curve(svm_model_ros,  X_test, y_test, ax = fig.ax_, label = \"SVM - Over Sampling\")\n",
        "fig = plot_precision_recall_curve(svm_model_rus,  X_test, y_test, ax = fig.ax_, label = \"SVM - Under Sampling\")\n",
        "fig = plot_precision_recall_curve(svm_model_smote,  X_test, y_test, ax = fig.ax_, label = \"SVM - SMOTE\")\n",
        "fig = plot_precision_recall_curve(svm_model_pca,  X_test_pca, y_test, ax = fig.ax_, label = \"SVM - PCA\")\n",
        "plt.title(\"Precision Recall Curve for SVM\")\n",
        "plt.show()"
      ],
      "metadata": {
        "colab": {
          "base_uri": "https://localhost:8080/",
          "height": 295
        },
        "id": "NUyhoUQ5DWjJ",
        "outputId": "e2049f74-fca7-44dc-9d66-ef210a919708"
      },
      "execution_count": 38,
      "outputs": [
        {
          "output_type": "display_data",
          "data": {
            "text/plain": [
              "<Figure size 432x288 with 1 Axes>"
            ],
            "image/png": "[encoded data removed]"
          },
          "metadata": {
            "needs_background": "light"
          }
        }
      ]
    },
    {
      "cell_type": "markdown",
      "source": [
        "# Gradient Boosting"
      ],
      "metadata": {
        "id": "GPn3sUUTs31X"
      }
    },
    {
      "cell_type": "code",
      "source": [
        "model = GradientBoostingClassifier()\n",
        "gb_model = model.fit(X_train, y_train)\n",
        "predict_train_gb = gb_model.predict(X_train)\n",
        "predict_test_gb = gb_model.predict(X_test)\n",
        "print('Training Accuracy:', metrics.accuracy_score(y_train, predict_train_gb))\n",
        "print('Production Accuracy:', metrics.accuracy_score(y_test, predict_test_gb))\n",
        "\n",
        "precision = precision_score(y_true=y_test, y_pred= predict_test_gb)\n",
        "print(\"Precision Score: %f\" % precision)\n",
        "recall = recall_score(y_true = y_test, y_pred = predict_test_gb)\n",
        "print(\"Recall Score: %f\" % recall)\n",
        "f1 = f1_score(y_true = y_test, y_pred = predict_test_gb)\n",
        "print(\"F1 Score: %f\" % f1)\n",
        "ConfusionMatrixDisplay.from_estimator(gb_model, X_test, y_test, cmap = \"Reds\");\n",
        "plt.title(\"Confusion Matrix\")\n",
        "plt.show()"
      ],
      "metadata": {
        "colab": {
          "base_uri": "https://localhost:8080/",
          "height": 368
        },
        "id": "oe3HYpjqZDEO",
        "outputId": "e1d9cad9-ca8c-4723-f273-06558da0ae34"
      },
      "execution_count": 39,
      "outputs": [
        {
          "output_type": "stream",
          "name": "stdout",
          "text": [
            "Training Accuracy: 0.8834106728538283\n",
            "Production Accuracy: 0.8632148377125193\n",
            "Precision Score: 0.664286\n",
            "Recall Score: 0.417040\n",
            "F1 Score: 0.512397\n"
          ]
        },
        {
          "output_type": "display_data",
          "data": {
            "text/plain": [
              "<Figure size 432x288 with 2 Axes>"
            ],
            "image/png": "[encoded data removed]"
          },
          "metadata": {
            "needs_background": "light"
          }
        }
      ]
    },
    {
      "cell_type": "code",
      "source": [
        "model = GradientBoostingClassifier()\n",
        "gb_model_rus = model.fit(X_train_resample_rus, y_train_resample_rus)\n",
        "predict_train_gb_rus = gb_model_rus.predict(X_train)\n",
        "predict_test_gb_rus = gb_model_rus.predict(X_test)\n",
        "print('Training Accuracy:', metrics.accuracy_score(y_train, predict_train_gb_rus))\n",
        "print('Production Accuracy:', metrics.accuracy_score(y_test, predict_test_gb_rus))\n",
        "\n",
        "precision_rus = precision_score(y_true=y_test, y_pred= predict_test_gb_rus)\n",
        "print(\"Precision Score: %f\" % precision_rus)\n",
        "recall_rus = recall_score(y_true = y_test, y_pred = predict_test_gb_rus)\n",
        "print(\"Recall Score: %f\" % recall_rus)\n",
        "f1_rus = f1_score(y_true = y_test, y_pred = predict_test_gb_rus)\n",
        "print(\"F1 Score: %f\" % f1_rus)\n",
        "ConfusionMatrixDisplay.from_estimator(gb_model_rus, X_test, y_test, cmap = \"Reds\");\n",
        "plt.title(\"Confusion Matrix\")\n",
        "plt.show()"
      ],
      "metadata": {
        "colab": {
          "base_uri": "https://localhost:8080/",
          "height": 384
        },
        "id": "aTh0cxxQD14I",
        "outputId": "88da2486-9914-4031-ffd0-2931104af493"
      },
      "execution_count": 40,
      "outputs": [
        {
          "output_type": "stream",
          "name": "stdout",
          "text": [
            "Training Accuracy: 0.7780355761794276\n",
            "Production Accuracy: 0.7511591962905718\n",
            "Precision Score: 0.400402\n",
            "Recall Score: 0.892377\n",
            "F1 Score: 0.552778\n"
          ]
        },
        {
          "output_type": "display_data",
          "data": {
            "text/plain": [
              "<Figure size 432x288 with 2 Axes>"
            ],
            "image/png": "[encoded data removed]"
          },
          "metadata": {
            "needs_background": "light"
          }
        }
      ]
    },
    {
      "cell_type": "code",
      "source": [
        "model = GradientBoostingClassifier()\n",
        "gb_model_ros = model.fit(X_train_resample_ros, y_train_resample_ros)\n",
        "predict_train_gb_ros = gb_model_ros.predict(X_train)\n",
        "predict_test_gb_ros = gb_model_ros.predict(X_test)\n",
        "print('Training Accuracy:', metrics.accuracy_score(y_train, predict_train_gb_ros))\n",
        "print('Production Accuracy:', metrics.accuracy_score(y_test, predict_test_gb_ros))\n",
        "\n",
        "precision_ros = precision_score(y_true=y_test, y_pred= predict_test_gb_ros)\n",
        "print(\"Precision Score: %f\" % precision_ros)\n",
        "recall_ros = recall_score(y_true = y_test, y_pred = predict_test_gb_ros)\n",
        "print(\"Recall Score: %f\" % recall_ros)\n",
        "f1_ros = f1_score(y_true = y_test, y_pred = predict_test_gb_ros)\n",
        "print(\"F1 Score: %f\" % f1_ros)\n",
        "ConfusionMatrixDisplay.from_estimator(gb_model_ros, X_test, y_test, cmap = \"Reds\");\n",
        "plt.title(\"Confusion Matrix\")\n",
        "plt.show()"
      ],
      "metadata": {
        "colab": {
          "base_uri": "https://localhost:8080/",
          "height": 384
        },
        "id": "Qjdp2R2OD2F7",
        "outputId": "3cb9ee61-42cd-465a-8ea9-93c4514dd501"
      },
      "execution_count": 41,
      "outputs": [
        {
          "output_type": "stream",
          "name": "stdout",
          "text": [
            "Training Accuracy: 0.8246326372776489\n",
            "Production Accuracy: 0.8060278207109737\n",
            "Precision Score: 0.466184\n",
            "Recall Score: 0.865471\n",
            "F1 Score: 0.605965\n"
          ]
        },
        {
          "output_type": "display_data",
          "data": {
            "text/plain": [
              "<Figure size 432x288 with 2 Axes>"
            ],
            "image/png": "[encoded data removed]"
          },
          "metadata": {
            "needs_background": "light"
          }
        }
      ]
    },
    {
      "cell_type": "code",
      "source": [
        "# SMOTE\n",
        "model = GradientBoostingClassifier()\n",
        "gb_model_smote = model.fit(X_train_resample_smote, y_train_resample_smote)\n",
        "predict_train_gb_smote = gb_model_smote.predict(X_train)\n",
        "predict_test_gb_smote = gb_model_smote.predict(X_test)\n",
        "print('Training Accuracy:', metrics.accuracy_score(y_train, predict_train_gb_smote))\n",
        "print('Production Accuracy:', metrics.accuracy_score(y_test, predict_test_gb_smote))\n",
        "\n",
        "precision_smote = precision_score(y_true=y_test, y_pred= predict_test_gb_smote)\n",
        "print(\"Precision Score: %f\" % precision_smote)\n",
        "recall_smote = recall_score(y_true = y_test, y_pred = predict_test_gb_smote)\n",
        "print(\"Recall Score: %f\" % recall_smote)\n",
        "f1_smote = f1_score(y_true = y_test, y_pred = predict_test_gb_smote)\n",
        "print(\"F1 Score: %f\" % f1_smote)\n",
        "ConfusionMatrixDisplay.from_estimator(gb_model_smote, X_test, y_test, cmap = \"Reds\");\n",
        "plt.title(\"Confusion Matrix\")\n",
        "plt.show()"
      ],
      "metadata": {
        "colab": {
          "base_uri": "https://localhost:8080/",
          "height": 384
        },
        "id": "ZixTYMiGZWze",
        "outputId": "482f9f98-040b-4eb0-b8d4-63fae27bbdab"
      },
      "execution_count": 42,
      "outputs": [
        {
          "output_type": "stream",
          "name": "stdout",
          "text": [
            "Training Accuracy: 0.871616395978345\n",
            "Production Accuracy: 0.874806800618238\n",
            "Precision Score: 0.661376\n",
            "Recall Score: 0.560538\n",
            "F1 Score: 0.606796\n"
          ]
        },
        {
          "output_type": "display_data",
          "data": {
            "text/plain": [
              "<Figure size 432x288 with 2 Axes>"
            ],
            "image/png": "[encoded data removed]"
          },
          "metadata": {
            "needs_background": "light"
          }
        }
      ]
    },
    {
      "cell_type": "code",
      "source": [
        "#PCA\n",
        "model = GradientBoostingClassifier()\n",
        "gb_model_pca = model.fit(X_train_pca, y_train)\n",
        "predict_train_gb_pca = gb_model_pca.predict(X_train_pca)\n",
        "predict_test_gb_pca = gb_model_pca.predict(X_test_pca)\n",
        "print('Training Accuracy:', metrics.accuracy_score(y_train, predict_train_gb_pca))\n",
        "print('Production Accuracy:', metrics.accuracy_score(y_test, predict_test_gb_pca))\n",
        "\n",
        "precision_smote = precision_score(y_true=y_test, y_pred= predict_test_gb_pca)\n",
        "print(\"Precision Score: %f\" % precision_smote)\n",
        "recall_pca = recall_score(y_true = y_test, y_pred = predict_test_gb_pca)\n",
        "print(\"Recall Score: %f\" % recall_pca)\n",
        "f1_pca = f1_score(y_true = y_test, y_pred = predict_test_gb_pca)\n",
        "print(\"F1 Score: %f\" % f1_pca)\n",
        "\n",
        "ConfusionMatrixDisplay.from_estimator(gb_model_pca, X_test_pca, y_test, cmap = \"Reds\");\n",
        "plt.title(\"Confusion Matrix\")\n",
        "plt.show()"
      ],
      "metadata": {
        "id": "Rc_b28VJwgNG",
        "colab": {
          "base_uri": "https://localhost:8080/",
          "height": 384
        },
        "outputId": "978af56f-ea4c-42ed-f6e8-988f18c63606"
      },
      "execution_count": 43,
      "outputs": [
        {
          "output_type": "stream",
          "name": "stdout",
          "text": [
            "Training Accuracy: 0.888631090487239\n",
            "Production Accuracy: 0.8446676970633694\n",
            "Precision Score: 0.630952\n",
            "Recall Score: 0.237668\n",
            "F1 Score: 0.345277\n"
          ]
        },
        {
          "output_type": "display_data",
          "data": {
            "text/plain": [
              "<Figure size 432x288 with 2 Axes>"
            ],
            "image/png": "[encoded data removed]"
          },
          "metadata": {
            "needs_background": "light"
          }
        }
      ]
    },
    {
      "cell_type": "code",
      "source": [
        "fig = plot_roc_curve(gb_model,  X_test, y_test, label = \"Gradient Boosting - No Sampling\")\n",
        "fig = plot_roc_curve(gb_model_ros,  X_test, y_test, ax = fig.ax_, label = \"Gradient Boosting - Over Sampling\")\n",
        "fig = plot_roc_curve(gb_model_rus,  X_test, y_test, ax = fig.ax_, label = \"Gradient Boosting - Under Sampling\")\n",
        "fig = plot_roc_curve(gb_model_smote,  X_test, y_test, ax = fig.ax_, label = \"Gradient Boosting - SMOTE\")\n",
        "fig = plot_roc_curve(gb_model_pca,  X_test_pca, y_test, ax = fig.ax_, label = \"Gradient Boosting - PCA\")\n",
        "plt.title(\"ROC Curve for Gradient Boosting\")\n",
        "plt.show()"
      ],
      "metadata": {
        "colab": {
          "base_uri": "https://localhost:8080/",
          "height": 295
        },
        "id": "uOHW1pk_Eua1",
        "outputId": "74a06833-296f-4154-9549-f9d89efb4d1f"
      },
      "execution_count": 44,
      "outputs": [
        {
          "output_type": "display_data",
          "data": {
            "text/plain": [
              "<Figure size 432x288 with 1 Axes>"
            ],
            "image/png": "[encoded data removed]"
          },
          "metadata": {
            "needs_background": "light"
          }
        }
      ]
    },
    {
      "cell_type": "code",
      "source": [
        "fig = plot_precision_recall_curve(gb_model,  X_test, y_test, label = \"Gradient Boosting - No Sampling\")\n",
        "fig = plot_precision_recall_curve(gb_model_ros,  X_test, y_test, ax = fig.ax_, label = \"Gradient Boosting - Over Sampling\")\n",
        "fig = plot_precision_recall_curve(gb_model_rus,  X_test, y_test, ax = fig.ax_, label = \"Gradient Boosting - Under Sampling\")\n",
        "fig = plot_precision_recall_curve(gb_model_smote,  X_test, y_test, ax = fig.ax_, label = \"Gradient Boosting - SMOTE\")\n",
        "fig = plot_precision_recall_curve(gb_model_pca,  X_test_pca, y_test, ax = fig.ax_, label = \"Gradient Boosting - PCA\")\n",
        "plt.title(\"Precision Recall Curve for Gradient Boosting\")\n",
        "plt.show()"
      ],
      "metadata": {
        "colab": {
          "base_uri": "https://localhost:8080/",
          "height": 295
        },
        "id": "Wc579K35EudK",
        "outputId": "e9bf5f52-4d07-4ec0-cb21-62a8897009f3"
      },
      "execution_count": 45,
      "outputs": [
        {
          "output_type": "display_data",
          "data": {
            "text/plain": [
              "<Figure size 432x288 with 1 Axes>"
            ],
            "image/png": "[encoded data removed]"
          },
          "metadata": {
            "needs_background": "light"
          }
        }
      ]
    },
    {
      "cell_type": "code",
      "source": [
        "feature_imp_rf = pd.Series(rf_model_smote.feature_importances_, index=X.columns).sort_values(ascending=False)\n",
        "feature_imp_rf[:20]"
      ],
      "metadata": {
        "colab": {
          "base_uri": "https://localhost:8080/"
        },
        "id": "v5bBHuku9-3c",
        "outputId": "cddb0165-332f-4ff4-a9aa-4c3609b0f04c"
      },
      "execution_count": 47,
      "outputs": [
        {
          "output_type": "execute_result",
          "data": {
            "text/plain": [
              "like                          0.044359\n",
              "funny_o                       0.042450\n",
              "d_like                        0.041206\n",
              "attractive_o                  0.036651\n",
              "d_shared_interests_partner    0.036375\n",
              "d_shared_interests_o          0.035734\n",
              "d_attractive_o                0.031846\n",
              "d_guess_prob_liked            0.030068\n",
              "d_funny_o                     0.026668\n",
              "funny_partner                 0.026561\n",
              "d_funny_partner               0.024633\n",
              "attractive_partner            0.022584\n",
              "guess_prob_liked              0.022295\n",
              "d_attractive_partner          0.021820\n",
              "sincere_partner               0.015997\n",
              "intelligence_partner          0.013576\n",
              "sinsere_o                     0.013414\n",
              "intelligence_o                0.012823\n",
              "d_expected_num_matches        0.012724\n",
              "d_ambitous_o                  0.011689\n",
              "dtype: float64"
            ]
          },
          "metadata": {},
          "execution_count": 47
        }
      ]
    },
    {
      "cell_type": "code",
      "source": [
        "plt.figure(figsize = (12, 6))\n",
        "sns.barplot(feature_imp_rf[:20].index, feature_imp_rf[:20].values)\n",
        "plt.tick_params(axis='x', rotation=90)\n",
        "plt.title(\"Feature importances for Random Forest - SMOTE\")\n",
        "plt.show()"
      ],
      "metadata": {
        "colab": {
          "base_uri": "https://localhost:8080/",
          "height": 516
        },
        "id": "75Zszo1AfWKa",
        "outputId": "8be17b89-3a33-434a-e474-a6d1c1315126"
      },
      "execution_count": 48,
      "outputs": [
        {
          "output_type": "display_data",
          "data": {
            "text/plain": [
              "<Figure size 864x432 with 1 Axes>"
            ],
            "image/png": "[encoded data removed]"
          },
          "metadata": {
            "needs_background": "light"
          }
        }
      ]
    },
    {
      "cell_type": "code",
      "source": [
        "feature_imp_gb = pd.Series(gb_model_smote.feature_importances_, index=X.columns).sort_values(ascending=False)\n",
        "feature_imp_gb[:20]"
      ],
      "metadata": {
        "id": "iJA0Hj5tA1xE",
        "colab": {
          "base_uri": "https://localhost:8080/"
        },
        "outputId": "a52acfe0-0831-469f-8fda-48b8f5cb9492"
      },
      "execution_count": 49,
      "outputs": [
        {
          "output_type": "execute_result",
          "data": {
            "text/plain": [
              "like                                  0.152756\n",
              "d_shared_interests_o                  0.151352\n",
              "d_shared_interests_partner            0.150323\n",
              "funny_o                               0.079213\n",
              "d_attractive_o                        0.078349\n",
              "d_guess_prob_liked                    0.064096\n",
              "attractive_o                          0.056792\n",
              "d_like                                0.049554\n",
              "attractive_partner                    0.027149\n",
              "d_expected_num_matches                0.025808\n",
              "d_attractive_partner                  0.023486\n",
              "d_funny_o                             0.021653\n",
              "funny_partner                         0.019427\n",
              "d_pref_o_intelligence                 0.012223\n",
              "d_d_age                               0.006293\n",
              "d_movies                              0.005221\n",
              "guess_prob_liked                      0.004165\n",
              "d_funny_partner                       0.004059\n",
              "race_o_European/Caucasian-American    0.003948\n",
              "met                                   0.003763\n",
              "dtype: float64"
            ]
          },
          "metadata": {},
          "execution_count": 49
        }
      ]
    },
    {
      "cell_type": "code",
      "source": [
        "plt.figure(figsize = (12, 6))\n",
        "sns.barplot(feature_imp_gb[:20].index, feature_imp_gb[:20].values)\n",
        "plt.tick_params(axis='x', rotation=90)\n",
        "plt.title(\"Feature importances for GradientBoosting - SMOTE\")\n",
        "plt.show()"
      ],
      "metadata": {
        "colab": {
          "base_uri": "https://localhost:8080/",
          "height": 571
        },
        "id": "aN0FHiNd-1CX",
        "outputId": "24889fab-ac79-47c0-cdfc-ef77d9239ab1"
      },
      "execution_count": 50,
      "outputs": [
        {
          "output_type": "display_data",
          "data": {
            "text/plain": [
              "<Figure size 864x432 with 1 Axes>"
            ],
            "image/png": "[encoded data removed]"
          },
          "metadata": {
            "needs_background": "light"
          }
        }
      ]
    }
  ]
}